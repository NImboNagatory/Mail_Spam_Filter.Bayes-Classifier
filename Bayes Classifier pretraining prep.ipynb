{
 "cells": [
  {
   "cell_type": "markdown",
   "source": [
    "# Imports"
   ],
   "metadata": {
    "collapsed": false
   }
  },
  {
   "cell_type": "code",
   "execution_count": 129,
   "outputs": [],
   "source": [
    "from os import walk\n",
    "from os.path import join\n",
    "import pandas as pd\n",
    "\n",
    "import matplotlib.pyplot as plt\n",
    "\n",
    "import nltk\n",
    "from nltk.stem import PorterStemmer, SnowballStemmer\n",
    "from nltk.corpus import stopwords\n",
    "from nltk.tokenize import word_tokenize\n",
    "\n",
    "from bs4 import BeautifulSoup\n",
    "\n",
    "import numpy as np\n",
    "from sklearn.model_selection import train_test_split\n",
    "\n",
    "%matplotlib inline"
   ],
   "metadata": {
    "collapsed": false
   }
  },
  {
   "cell_type": "markdown",
   "source": [
    "# Generator Functions"
   ],
   "metadata": {
    "collapsed": false
   }
  },
  {
   "cell_type": "code",
   "execution_count": 154,
   "outputs": [],
   "source": [
    "spam_1_path = 'SpamData/01_Processing/spam_assassin_corpus/spam_1'\n",
    "spam_2_path = 'SpamData/01_Processing/spam_assassin_corpus/spam_2'\n",
    "easy_ham_1 = 'SpamData/01_Processing/spam_assassin_corpus/easy_ham_1'\n",
    "easy_ham_2 = 'SpamData/01_Processing/spam_assassin_corpus/easy_ham_2'\n",
    "\n",
    "spam_cat = 1\n",
    "ham_cat = 0\n",
    "\n",
    "vocab_size = 2500\n",
    "\n",
    "mail_json_file = 'SpamData/01_Processing/email-text-data.json'\n",
    "word_id_json_file = 'SpamData/01_Processing/word-by-id.csv.json'\n",
    "training_data_file = 'SpamData/02_Training/training_data.txt'\n",
    "test_data_file = 'SpamData/02_Training/test_data.txt'"
   ],
   "metadata": {
    "collapsed": false
   }
  },
  {
   "cell_type": "code",
   "execution_count": 3,
   "outputs": [],
   "source": [
    "def email_body_extractor(path):\n",
    "    for root, dir_names, file_names in walk(path):\n",
    "        for file_name in file_names:\n",
    "            file_path = join(root, file_name)\n",
    "            is_body = False\n",
    "            email_body = []\n",
    "            with open(file_path, encoding='latin-1') as mail:\n",
    "                for line in mail:\n",
    "                    if is_body:\n",
    "                        email_body.append(line)\n",
    "                    elif line == '\\n':\n",
    "                        is_body = True\n",
    "            yield file_name, '\\n'.join(email_body)"
   ],
   "metadata": {
    "collapsed": false
   }
  },
  {
   "cell_type": "code",
   "execution_count": 4,
   "outputs": [],
   "source": [
    "def df_from_dir(path, classification):\n",
    "    rows = []\n",
    "    row_names = []\n",
    "    for file_name, email_body in email_body_extractor(path):\n",
    "        rows.append({'category': classification, 'message': email_body})\n",
    "        row_names.append(file_name)\n",
    "    return pd.DataFrame(rows, index=row_names)"
   ],
   "metadata": {
    "collapsed": false
   }
  },
  {
   "cell_type": "code",
   "execution_count": 4,
   "outputs": [],
   "source": [],
   "metadata": {
    "collapsed": false
   }
  },
  {
   "cell_type": "code",
   "execution_count": 5,
   "outputs": [
    {
     "data": {
      "text/plain": "                                        category  \\\n00001.7848dde101aa985090474a91ec93fcf0         1   \n00002.d94f1b97e48ed3b553b3508d116e6a09         1   \n00003.2ee33bc6eacdb11f38d052c44819ba6c         1   \n00004.eac8de8d759b7e74154f142194282724         1   \n00005.57696a39d7d84318ce497886896bf90d         1   \n...                                          ...   \n01397.f75f0dd0dd923faefa3e9cc5ecb8c906         1   \n01398.8ca7045aae4184d56e8509dc5ad6d979         1   \n01399.2319643317e2c5193d574e40a71809c2         1   \n01400.b444b69845db2fa0a4693ca04e6ac5c5         1   \ncmds                                           1   \n\n                                                                                  message  \n00001.7848dde101aa985090474a91ec93fcf0  <!DOCTYPE HTML PUBLIC \"-//W3C//DTD HTML 4.0 Tr...  \n00002.d94f1b97e48ed3b553b3508d116e6a09  1) Fight The Risk of Cancer!\\n\\nhttp://www.adc...  \n00003.2ee33bc6eacdb11f38d052c44819ba6c  1) Fight The Risk of Cancer!\\n\\nhttp://www.adc...  \n00004.eac8de8d759b7e74154f142194282724  ##############################################...  \n00005.57696a39d7d84318ce497886896bf90d  I thought you might like these:\\n\\n1) Slim Dow...  \n...                                                                                   ...  \n01397.f75f0dd0dd923faefa3e9cc5ecb8c906  This is a multi-part message in MIME format.\\n...  \n01398.8ca7045aae4184d56e8509dc5ad6d979  Dear Subscriber,\\n\\n\\n\\nIf I could show you a ...  \n01399.2319643317e2c5193d574e40a71809c2  ****Mid-Summer Customer Appreciation SALE!****...  \n01400.b444b69845db2fa0a4693ca04e6ac5c5  ATTN:SIR/MADAN      \\n\\n\\n\\n                  ...  \ncmds                                                                                       \n\n[1898 rows x 2 columns]",
      "text/html": "<div>\n<style scoped>\n    .dataframe tbody tr th:only-of-type {\n        vertical-align: middle;\n    }\n\n    .dataframe tbody tr th {\n        vertical-align: top;\n    }\n\n    .dataframe thead th {\n        text-align: right;\n    }\n</style>\n<table border=\"1\" class=\"dataframe\">\n  <thead>\n    <tr style=\"text-align: right;\">\n      <th></th>\n      <th>category</th>\n      <th>message</th>\n    </tr>\n  </thead>\n  <tbody>\n    <tr>\n      <th>00001.7848dde101aa985090474a91ec93fcf0</th>\n      <td>1</td>\n      <td>&lt;!DOCTYPE HTML PUBLIC \"-//W3C//DTD HTML 4.0 Tr...</td>\n    </tr>\n    <tr>\n      <th>00002.d94f1b97e48ed3b553b3508d116e6a09</th>\n      <td>1</td>\n      <td>1) Fight The Risk of Cancer!\\n\\nhttp://www.adc...</td>\n    </tr>\n    <tr>\n      <th>00003.2ee33bc6eacdb11f38d052c44819ba6c</th>\n      <td>1</td>\n      <td>1) Fight The Risk of Cancer!\\n\\nhttp://www.adc...</td>\n    </tr>\n    <tr>\n      <th>00004.eac8de8d759b7e74154f142194282724</th>\n      <td>1</td>\n      <td>##############################################...</td>\n    </tr>\n    <tr>\n      <th>00005.57696a39d7d84318ce497886896bf90d</th>\n      <td>1</td>\n      <td>I thought you might like these:\\n\\n1) Slim Dow...</td>\n    </tr>\n    <tr>\n      <th>...</th>\n      <td>...</td>\n      <td>...</td>\n    </tr>\n    <tr>\n      <th>01397.f75f0dd0dd923faefa3e9cc5ecb8c906</th>\n      <td>1</td>\n      <td>This is a multi-part message in MIME format.\\n...</td>\n    </tr>\n    <tr>\n      <th>01398.8ca7045aae4184d56e8509dc5ad6d979</th>\n      <td>1</td>\n      <td>Dear Subscriber,\\n\\n\\n\\nIf I could show you a ...</td>\n    </tr>\n    <tr>\n      <th>01399.2319643317e2c5193d574e40a71809c2</th>\n      <td>1</td>\n      <td>****Mid-Summer Customer Appreciation SALE!****...</td>\n    </tr>\n    <tr>\n      <th>01400.b444b69845db2fa0a4693ca04e6ac5c5</th>\n      <td>1</td>\n      <td>ATTN:SIR/MADAN      \\n\\n\\n\\n                  ...</td>\n    </tr>\n    <tr>\n      <th>cmds</th>\n      <td>1</td>\n      <td></td>\n    </tr>\n  </tbody>\n</table>\n<p>1898 rows × 2 columns</p>\n</div>"
     },
     "execution_count": 5,
     "metadata": {},
     "output_type": "execute_result"
    }
   ],
   "source": [
    "spam_emails = df_from_dir(spam_1_path, spam_cat)\n",
    "spam_emails = pd.concat([spam_emails, df_from_dir(spam_2_path, 1)])\n",
    "spam_emails"
   ],
   "metadata": {
    "collapsed": false
   }
  },
  {
   "cell_type": "code",
   "execution_count": 6,
   "outputs": [
    {
     "data": {
      "text/plain": "                                        category  \\\n00001.7c53336b37003a9286aba55d2945844c         0   \n00002.9c4069e25e1ef370c078db7ee85ff9ac         0   \n00003.860e3c3cee1b42ead714c5c874fe25f7         0   \n00004.864220c5b6930b209cc287c361c99af1         0   \n00005.bf27cdeaf0b8c4647ecd61b1d09da613         0   \n...                                          ...   \n01396.61983fbe6ec43f55fd44e30fce24ffa6         0   \n01397.9f9ef4c2a8dc012d80f2ce2d3473d3b7         0   \n01398.169b51731fe569f42169ae8f948ec676         0   \n01399.ca6b00b7b341bbde9a9ea3dd6a7bf896         0   \n01400.f897f0931e461e7b2e964d28e927c35e         0   \n\n                                                                                  message  \n00001.7c53336b37003a9286aba55d2945844c      Date:        Wed, 21 Aug 2002 10:54:46 -05...  \n00002.9c4069e25e1ef370c078db7ee85ff9ac  Martin A posted:\\n\\nTassos Papadopoulos, the G...  \n00003.860e3c3cee1b42ead714c5c874fe25f7  Man Threatens Explosion In Moscow \\n\\n\\n\\nThur...  \n00004.864220c5b6930b209cc287c361c99af1  Klez: The Virus That Won't Die\\n\\n \\n\\nAlready...  \n00005.bf27cdeaf0b8c4647ecd61b1d09da613  >  in adding cream to spaghetti carbonara, whi...  \n...                                                                                   ...  \n01396.61983fbe6ec43f55fd44e30fce24ffa6  http://news.bbc.co.uk/1/hi/england/2515127.stm...  \n01397.9f9ef4c2a8dc012d80f2ce2d3473d3b7  > >-- be careful when using this one.) Also, t...  \n01398.169b51731fe569f42169ae8f948ec676  >>>>> \"SM\" == Skip Montanaro <skip@pobox.com> ...  \n01399.ca6b00b7b341bbde9a9ea3dd6a7bf896  So then, \"Mark Hammond\" <mhammond@skippinet.co...  \n01400.f897f0931e461e7b2e964d28e927c35e  Hi there,\\n\\n\\n\\nNow this is probably of no us...  \n\n[3901 rows x 2 columns]",
      "text/html": "<div>\n<style scoped>\n    .dataframe tbody tr th:only-of-type {\n        vertical-align: middle;\n    }\n\n    .dataframe tbody tr th {\n        vertical-align: top;\n    }\n\n    .dataframe thead th {\n        text-align: right;\n    }\n</style>\n<table border=\"1\" class=\"dataframe\">\n  <thead>\n    <tr style=\"text-align: right;\">\n      <th></th>\n      <th>category</th>\n      <th>message</th>\n    </tr>\n  </thead>\n  <tbody>\n    <tr>\n      <th>00001.7c53336b37003a9286aba55d2945844c</th>\n      <td>0</td>\n      <td>Date:        Wed, 21 Aug 2002 10:54:46 -05...</td>\n    </tr>\n    <tr>\n      <th>00002.9c4069e25e1ef370c078db7ee85ff9ac</th>\n      <td>0</td>\n      <td>Martin A posted:\\n\\nTassos Papadopoulos, the G...</td>\n    </tr>\n    <tr>\n      <th>00003.860e3c3cee1b42ead714c5c874fe25f7</th>\n      <td>0</td>\n      <td>Man Threatens Explosion In Moscow \\n\\n\\n\\nThur...</td>\n    </tr>\n    <tr>\n      <th>00004.864220c5b6930b209cc287c361c99af1</th>\n      <td>0</td>\n      <td>Klez: The Virus That Won't Die\\n\\n \\n\\nAlready...</td>\n    </tr>\n    <tr>\n      <th>00005.bf27cdeaf0b8c4647ecd61b1d09da613</th>\n      <td>0</td>\n      <td>&gt;  in adding cream to spaghetti carbonara, whi...</td>\n    </tr>\n    <tr>\n      <th>...</th>\n      <td>...</td>\n      <td>...</td>\n    </tr>\n    <tr>\n      <th>01396.61983fbe6ec43f55fd44e30fce24ffa6</th>\n      <td>0</td>\n      <td>http://news.bbc.co.uk/1/hi/england/2515127.stm...</td>\n    </tr>\n    <tr>\n      <th>01397.9f9ef4c2a8dc012d80f2ce2d3473d3b7</th>\n      <td>0</td>\n      <td>&gt; &gt;-- be careful when using this one.) Also, t...</td>\n    </tr>\n    <tr>\n      <th>01398.169b51731fe569f42169ae8f948ec676</th>\n      <td>0</td>\n      <td>&gt;&gt;&gt;&gt;&gt; \"SM\" == Skip Montanaro &lt;skip@pobox.com&gt; ...</td>\n    </tr>\n    <tr>\n      <th>01399.ca6b00b7b341bbde9a9ea3dd6a7bf896</th>\n      <td>0</td>\n      <td>So then, \"Mark Hammond\" &lt;mhammond@skippinet.co...</td>\n    </tr>\n    <tr>\n      <th>01400.f897f0931e461e7b2e964d28e927c35e</th>\n      <td>0</td>\n      <td>Hi there,\\n\\n\\n\\nNow this is probably of no us...</td>\n    </tr>\n  </tbody>\n</table>\n<p>3901 rows × 2 columns</p>\n</div>"
     },
     "execution_count": 6,
     "metadata": {},
     "output_type": "execute_result"
    }
   ],
   "source": [
    "ham_mails = df_from_dir(easy_ham_1, ham_cat)\n",
    "ham_mails = pd.concat([ham_mails, df_from_dir(easy_ham_2, ham_cat)])\n",
    "ham_mails"
   ],
   "metadata": {
    "collapsed": false
   }
  },
  {
   "cell_type": "code",
   "execution_count": 7,
   "outputs": [
    {
     "data": {
      "text/plain": "                                        category  \\\n00001.7848dde101aa985090474a91ec93fcf0         1   \n00002.d94f1b97e48ed3b553b3508d116e6a09         1   \n00003.2ee33bc6eacdb11f38d052c44819ba6c         1   \n00004.eac8de8d759b7e74154f142194282724         1   \n00005.57696a39d7d84318ce497886896bf90d         1   \n...                                          ...   \n01396.61983fbe6ec43f55fd44e30fce24ffa6         0   \n01397.9f9ef4c2a8dc012d80f2ce2d3473d3b7         0   \n01398.169b51731fe569f42169ae8f948ec676         0   \n01399.ca6b00b7b341bbde9a9ea3dd6a7bf896         0   \n01400.f897f0931e461e7b2e964d28e927c35e         0   \n\n                                                                                  message  \n00001.7848dde101aa985090474a91ec93fcf0  <!DOCTYPE HTML PUBLIC \"-//W3C//DTD HTML 4.0 Tr...  \n00002.d94f1b97e48ed3b553b3508d116e6a09  1) Fight The Risk of Cancer!\\n\\nhttp://www.adc...  \n00003.2ee33bc6eacdb11f38d052c44819ba6c  1) Fight The Risk of Cancer!\\n\\nhttp://www.adc...  \n00004.eac8de8d759b7e74154f142194282724  ##############################################...  \n00005.57696a39d7d84318ce497886896bf90d  I thought you might like these:\\n\\n1) Slim Dow...  \n...                                                                                   ...  \n01396.61983fbe6ec43f55fd44e30fce24ffa6  http://news.bbc.co.uk/1/hi/england/2515127.stm...  \n01397.9f9ef4c2a8dc012d80f2ce2d3473d3b7  > >-- be careful when using this one.) Also, t...  \n01398.169b51731fe569f42169ae8f948ec676  >>>>> \"SM\" == Skip Montanaro <skip@pobox.com> ...  \n01399.ca6b00b7b341bbde9a9ea3dd6a7bf896  So then, \"Mark Hammond\" <mhammond@skippinet.co...  \n01400.f897f0931e461e7b2e964d28e927c35e  Hi there,\\n\\n\\n\\nNow this is probably of no us...  \n\n[5799 rows x 2 columns]",
      "text/html": "<div>\n<style scoped>\n    .dataframe tbody tr th:only-of-type {\n        vertical-align: middle;\n    }\n\n    .dataframe tbody tr th {\n        vertical-align: top;\n    }\n\n    .dataframe thead th {\n        text-align: right;\n    }\n</style>\n<table border=\"1\" class=\"dataframe\">\n  <thead>\n    <tr style=\"text-align: right;\">\n      <th></th>\n      <th>category</th>\n      <th>message</th>\n    </tr>\n  </thead>\n  <tbody>\n    <tr>\n      <th>00001.7848dde101aa985090474a91ec93fcf0</th>\n      <td>1</td>\n      <td>&lt;!DOCTYPE HTML PUBLIC \"-//W3C//DTD HTML 4.0 Tr...</td>\n    </tr>\n    <tr>\n      <th>00002.d94f1b97e48ed3b553b3508d116e6a09</th>\n      <td>1</td>\n      <td>1) Fight The Risk of Cancer!\\n\\nhttp://www.adc...</td>\n    </tr>\n    <tr>\n      <th>00003.2ee33bc6eacdb11f38d052c44819ba6c</th>\n      <td>1</td>\n      <td>1) Fight The Risk of Cancer!\\n\\nhttp://www.adc...</td>\n    </tr>\n    <tr>\n      <th>00004.eac8de8d759b7e74154f142194282724</th>\n      <td>1</td>\n      <td>##############################################...</td>\n    </tr>\n    <tr>\n      <th>00005.57696a39d7d84318ce497886896bf90d</th>\n      <td>1</td>\n      <td>I thought you might like these:\\n\\n1) Slim Dow...</td>\n    </tr>\n    <tr>\n      <th>...</th>\n      <td>...</td>\n      <td>...</td>\n    </tr>\n    <tr>\n      <th>01396.61983fbe6ec43f55fd44e30fce24ffa6</th>\n      <td>0</td>\n      <td>http://news.bbc.co.uk/1/hi/england/2515127.stm...</td>\n    </tr>\n    <tr>\n      <th>01397.9f9ef4c2a8dc012d80f2ce2d3473d3b7</th>\n      <td>0</td>\n      <td>&gt; &gt;-- be careful when using this one.) Also, t...</td>\n    </tr>\n    <tr>\n      <th>01398.169b51731fe569f42169ae8f948ec676</th>\n      <td>0</td>\n      <td>&gt;&gt;&gt;&gt;&gt; \"SM\" == Skip Montanaro &lt;skip@pobox.com&gt; ...</td>\n    </tr>\n    <tr>\n      <th>01399.ca6b00b7b341bbde9a9ea3dd6a7bf896</th>\n      <td>0</td>\n      <td>So then, \"Mark Hammond\" &lt;mhammond@skippinet.co...</td>\n    </tr>\n    <tr>\n      <th>01400.f897f0931e461e7b2e964d28e927c35e</th>\n      <td>0</td>\n      <td>Hi there,\\n\\n\\n\\nNow this is probably of no us...</td>\n    </tr>\n  </tbody>\n</table>\n<p>5799 rows × 2 columns</p>\n</div>"
     },
     "execution_count": 7,
     "metadata": {},
     "output_type": "execute_result"
    }
   ],
   "source": [
    "mail_df = pd.concat([spam_emails, ham_mails])\n",
    "mail_df"
   ],
   "metadata": {
    "collapsed": false
   }
  },
  {
   "cell_type": "markdown",
   "source": [
    "# Cleaning Data: Checking for Missing values"
   ],
   "metadata": {
    "collapsed": false
   }
  },
  {
   "cell_type": "code",
   "execution_count": 8,
   "outputs": [
    {
     "data": {
      "text/plain": "False"
     },
     "execution_count": 8,
     "metadata": {},
     "output_type": "execute_result"
    }
   ],
   "source": [
    "mail_df.message.isnull().any()"
   ],
   "metadata": {
    "collapsed": false
   }
  },
  {
   "cell_type": "code",
   "execution_count": 9,
   "outputs": [
    {
     "data": {
      "text/plain": "3"
     },
     "execution_count": 9,
     "metadata": {},
     "output_type": "execute_result"
    }
   ],
   "source": [
    "(mail_df.message.str.len() == 0).sum()"
   ],
   "metadata": {
    "collapsed": false
   }
  },
  {
   "cell_type": "code",
   "execution_count": 10,
   "outputs": [
    {
     "data": {
      "text/plain": "      category message\ncmds         1        \ncmds         1        \ncmds         0        ",
      "text/html": "<div>\n<style scoped>\n    .dataframe tbody tr th:only-of-type {\n        vertical-align: middle;\n    }\n\n    .dataframe tbody tr th {\n        vertical-align: top;\n    }\n\n    .dataframe thead th {\n        text-align: right;\n    }\n</style>\n<table border=\"1\" class=\"dataframe\">\n  <thead>\n    <tr style=\"text-align: right;\">\n      <th></th>\n      <th>category</th>\n      <th>message</th>\n    </tr>\n  </thead>\n  <tbody>\n    <tr>\n      <th>cmds</th>\n      <td>1</td>\n      <td></td>\n    </tr>\n    <tr>\n      <th>cmds</th>\n      <td>1</td>\n      <td></td>\n    </tr>\n    <tr>\n      <th>cmds</th>\n      <td>0</td>\n      <td></td>\n    </tr>\n  </tbody>\n</table>\n</div>"
     },
     "execution_count": 10,
     "metadata": {},
     "output_type": "execute_result"
    }
   ],
   "source": [
    "mail_df[mail_df.message.str.len() == 0]"
   ],
   "metadata": {
    "collapsed": false
   }
  },
  {
   "cell_type": "markdown",
   "source": [
    "# Locate Empty Emails and remove tham"
   ],
   "metadata": {
    "collapsed": false
   }
  },
  {
   "cell_type": "code",
   "execution_count": 11,
   "outputs": [],
   "source": [
    "mail_df = mail_df[mail_df.message.str.len() != 0]"
   ],
   "metadata": {
    "collapsed": false
   }
  },
  {
   "cell_type": "markdown",
   "source": [
    "# Add Document ids to track Emails in Dataset"
   ],
   "metadata": {
    "collapsed": false
   }
  },
  {
   "cell_type": "code",
   "execution_count": 12,
   "outputs": [
    {
     "name": "stderr",
     "output_type": "stream",
     "text": [
      "C:\\Users\\Administrator\\AppData\\Local\\Temp\\ipykernel_9192\\342004327.py:2: SettingWithCopyWarning: \n",
      "A value is trying to be set on a copy of a slice from a DataFrame.\n",
      "Try using .loc[row_indexer,col_indexer] = value instead\n",
      "\n",
      "See the caveats in the documentation: https://pandas.pydata.org/pandas-docs/stable/user_guide/indexing.html#returning-a-view-versus-a-copy\n",
      "  mail_df['doc_id'] = document_id\n"
     ]
    }
   ],
   "source": [
    "document_id = range(0, len(mail_df.message))\n",
    "mail_df['doc_id'] = document_id"
   ],
   "metadata": {
    "collapsed": false
   }
  },
  {
   "cell_type": "code",
   "execution_count": 13,
   "outputs": [
    {
     "name": "stderr",
     "output_type": "stream",
     "text": [
      "C:\\Users\\Administrator\\AppData\\Local\\Temp\\ipykernel_9192\\4141420947.py:1: SettingWithCopyWarning: \n",
      "A value is trying to be set on a copy of a slice from a DataFrame.\n",
      "Try using .loc[row_indexer,col_indexer] = value instead\n",
      "\n",
      "See the caveats in the documentation: https://pandas.pydata.org/pandas-docs/stable/user_guide/indexing.html#returning-a-view-versus-a-copy\n",
      "  mail_df['file_name'] = mail_df.index\n"
     ]
    }
   ],
   "source": [
    "mail_df['file_name'] = mail_df.index"
   ],
   "metadata": {
    "collapsed": false
   }
  },
  {
   "cell_type": "code",
   "execution_count": 14,
   "outputs": [
    {
     "data": {
      "text/plain": "                                        category  \\\n00001.7848dde101aa985090474a91ec93fcf0         1   \n00002.d94f1b97e48ed3b553b3508d116e6a09         1   \n00003.2ee33bc6eacdb11f38d052c44819ba6c         1   \n00004.eac8de8d759b7e74154f142194282724         1   \n00005.57696a39d7d84318ce497886896bf90d         1   \n...                                          ...   \n01396.61983fbe6ec43f55fd44e30fce24ffa6         0   \n01397.9f9ef4c2a8dc012d80f2ce2d3473d3b7         0   \n01398.169b51731fe569f42169ae8f948ec676         0   \n01399.ca6b00b7b341bbde9a9ea3dd6a7bf896         0   \n01400.f897f0931e461e7b2e964d28e927c35e         0   \n\n                                                                                  message  \\\n00001.7848dde101aa985090474a91ec93fcf0  <!DOCTYPE HTML PUBLIC \"-//W3C//DTD HTML 4.0 Tr...   \n00002.d94f1b97e48ed3b553b3508d116e6a09  1) Fight The Risk of Cancer!\\n\\nhttp://www.adc...   \n00003.2ee33bc6eacdb11f38d052c44819ba6c  1) Fight The Risk of Cancer!\\n\\nhttp://www.adc...   \n00004.eac8de8d759b7e74154f142194282724  ##############################################...   \n00005.57696a39d7d84318ce497886896bf90d  I thought you might like these:\\n\\n1) Slim Dow...   \n...                                                                                   ...   \n01396.61983fbe6ec43f55fd44e30fce24ffa6  http://news.bbc.co.uk/1/hi/england/2515127.stm...   \n01397.9f9ef4c2a8dc012d80f2ce2d3473d3b7  > >-- be careful when using this one.) Also, t...   \n01398.169b51731fe569f42169ae8f948ec676  >>>>> \"SM\" == Skip Montanaro <skip@pobox.com> ...   \n01399.ca6b00b7b341bbde9a9ea3dd6a7bf896  So then, \"Mark Hammond\" <mhammond@skippinet.co...   \n01400.f897f0931e461e7b2e964d28e927c35e  Hi there,\\n\\n\\n\\nNow this is probably of no us...   \n\n                                        doc_id  \\\n00001.7848dde101aa985090474a91ec93fcf0       0   \n00002.d94f1b97e48ed3b553b3508d116e6a09       1   \n00003.2ee33bc6eacdb11f38d052c44819ba6c       2   \n00004.eac8de8d759b7e74154f142194282724       3   \n00005.57696a39d7d84318ce497886896bf90d       4   \n...                                        ...   \n01396.61983fbe6ec43f55fd44e30fce24ffa6    5791   \n01397.9f9ef4c2a8dc012d80f2ce2d3473d3b7    5792   \n01398.169b51731fe569f42169ae8f948ec676    5793   \n01399.ca6b00b7b341bbde9a9ea3dd6a7bf896    5794   \n01400.f897f0931e461e7b2e964d28e927c35e    5795   \n\n                                                                     file_name  \n00001.7848dde101aa985090474a91ec93fcf0  00001.7848dde101aa985090474a91ec93fcf0  \n00002.d94f1b97e48ed3b553b3508d116e6a09  00002.d94f1b97e48ed3b553b3508d116e6a09  \n00003.2ee33bc6eacdb11f38d052c44819ba6c  00003.2ee33bc6eacdb11f38d052c44819ba6c  \n00004.eac8de8d759b7e74154f142194282724  00004.eac8de8d759b7e74154f142194282724  \n00005.57696a39d7d84318ce497886896bf90d  00005.57696a39d7d84318ce497886896bf90d  \n...                                                                        ...  \n01396.61983fbe6ec43f55fd44e30fce24ffa6  01396.61983fbe6ec43f55fd44e30fce24ffa6  \n01397.9f9ef4c2a8dc012d80f2ce2d3473d3b7  01397.9f9ef4c2a8dc012d80f2ce2d3473d3b7  \n01398.169b51731fe569f42169ae8f948ec676  01398.169b51731fe569f42169ae8f948ec676  \n01399.ca6b00b7b341bbde9a9ea3dd6a7bf896  01399.ca6b00b7b341bbde9a9ea3dd6a7bf896  \n01400.f897f0931e461e7b2e964d28e927c35e  01400.f897f0931e461e7b2e964d28e927c35e  \n\n[5796 rows x 4 columns]",
      "text/html": "<div>\n<style scoped>\n    .dataframe tbody tr th:only-of-type {\n        vertical-align: middle;\n    }\n\n    .dataframe tbody tr th {\n        vertical-align: top;\n    }\n\n    .dataframe thead th {\n        text-align: right;\n    }\n</style>\n<table border=\"1\" class=\"dataframe\">\n  <thead>\n    <tr style=\"text-align: right;\">\n      <th></th>\n      <th>category</th>\n      <th>message</th>\n      <th>doc_id</th>\n      <th>file_name</th>\n    </tr>\n  </thead>\n  <tbody>\n    <tr>\n      <th>00001.7848dde101aa985090474a91ec93fcf0</th>\n      <td>1</td>\n      <td>&lt;!DOCTYPE HTML PUBLIC \"-//W3C//DTD HTML 4.0 Tr...</td>\n      <td>0</td>\n      <td>00001.7848dde101aa985090474a91ec93fcf0</td>\n    </tr>\n    <tr>\n      <th>00002.d94f1b97e48ed3b553b3508d116e6a09</th>\n      <td>1</td>\n      <td>1) Fight The Risk of Cancer!\\n\\nhttp://www.adc...</td>\n      <td>1</td>\n      <td>00002.d94f1b97e48ed3b553b3508d116e6a09</td>\n    </tr>\n    <tr>\n      <th>00003.2ee33bc6eacdb11f38d052c44819ba6c</th>\n      <td>1</td>\n      <td>1) Fight The Risk of Cancer!\\n\\nhttp://www.adc...</td>\n      <td>2</td>\n      <td>00003.2ee33bc6eacdb11f38d052c44819ba6c</td>\n    </tr>\n    <tr>\n      <th>00004.eac8de8d759b7e74154f142194282724</th>\n      <td>1</td>\n      <td>##############################################...</td>\n      <td>3</td>\n      <td>00004.eac8de8d759b7e74154f142194282724</td>\n    </tr>\n    <tr>\n      <th>00005.57696a39d7d84318ce497886896bf90d</th>\n      <td>1</td>\n      <td>I thought you might like these:\\n\\n1) Slim Dow...</td>\n      <td>4</td>\n      <td>00005.57696a39d7d84318ce497886896bf90d</td>\n    </tr>\n    <tr>\n      <th>...</th>\n      <td>...</td>\n      <td>...</td>\n      <td>...</td>\n      <td>...</td>\n    </tr>\n    <tr>\n      <th>01396.61983fbe6ec43f55fd44e30fce24ffa6</th>\n      <td>0</td>\n      <td>http://news.bbc.co.uk/1/hi/england/2515127.stm...</td>\n      <td>5791</td>\n      <td>01396.61983fbe6ec43f55fd44e30fce24ffa6</td>\n    </tr>\n    <tr>\n      <th>01397.9f9ef4c2a8dc012d80f2ce2d3473d3b7</th>\n      <td>0</td>\n      <td>&gt; &gt;-- be careful when using this one.) Also, t...</td>\n      <td>5792</td>\n      <td>01397.9f9ef4c2a8dc012d80f2ce2d3473d3b7</td>\n    </tr>\n    <tr>\n      <th>01398.169b51731fe569f42169ae8f948ec676</th>\n      <td>0</td>\n      <td>&gt;&gt;&gt;&gt;&gt; \"SM\" == Skip Montanaro &lt;skip@pobox.com&gt; ...</td>\n      <td>5793</td>\n      <td>01398.169b51731fe569f42169ae8f948ec676</td>\n    </tr>\n    <tr>\n      <th>01399.ca6b00b7b341bbde9a9ea3dd6a7bf896</th>\n      <td>0</td>\n      <td>So then, \"Mark Hammond\" &lt;mhammond@skippinet.co...</td>\n      <td>5794</td>\n      <td>01399.ca6b00b7b341bbde9a9ea3dd6a7bf896</td>\n    </tr>\n    <tr>\n      <th>01400.f897f0931e461e7b2e964d28e927c35e</th>\n      <td>0</td>\n      <td>Hi there,\\n\\n\\n\\nNow this is probably of no us...</td>\n      <td>5795</td>\n      <td>01400.f897f0931e461e7b2e964d28e927c35e</td>\n    </tr>\n  </tbody>\n</table>\n<p>5796 rows × 4 columns</p>\n</div>"
     },
     "execution_count": 14,
     "metadata": {},
     "output_type": "execute_result"
    }
   ],
   "source": [
    "mail_df"
   ],
   "metadata": {
    "collapsed": false
   }
  },
  {
   "cell_type": "code",
   "execution_count": 15,
   "outputs": [
    {
     "data": {
      "text/plain": "        category                                            message  \\\ndoc_id                                                                \n0              1  <!DOCTYPE HTML PUBLIC \"-//W3C//DTD HTML 4.0 Tr...   \n1              1  1) Fight The Risk of Cancer!\\n\\nhttp://www.adc...   \n2              1  1) Fight The Risk of Cancer!\\n\\nhttp://www.adc...   \n3              1  ##############################################...   \n4              1  I thought you might like these:\\n\\n1) Slim Dow...   \n\n                                     file_name  \ndoc_id                                          \n0       00001.7848dde101aa985090474a91ec93fcf0  \n1       00002.d94f1b97e48ed3b553b3508d116e6a09  \n2       00003.2ee33bc6eacdb11f38d052c44819ba6c  \n3       00004.eac8de8d759b7e74154f142194282724  \n4       00005.57696a39d7d84318ce497886896bf90d  ",
      "text/html": "<div>\n<style scoped>\n    .dataframe tbody tr th:only-of-type {\n        vertical-align: middle;\n    }\n\n    .dataframe tbody tr th {\n        vertical-align: top;\n    }\n\n    .dataframe thead th {\n        text-align: right;\n    }\n</style>\n<table border=\"1\" class=\"dataframe\">\n  <thead>\n    <tr style=\"text-align: right;\">\n      <th></th>\n      <th>category</th>\n      <th>message</th>\n      <th>file_name</th>\n    </tr>\n    <tr>\n      <th>doc_id</th>\n      <th></th>\n      <th></th>\n      <th></th>\n    </tr>\n  </thead>\n  <tbody>\n    <tr>\n      <th>0</th>\n      <td>1</td>\n      <td>&lt;!DOCTYPE HTML PUBLIC \"-//W3C//DTD HTML 4.0 Tr...</td>\n      <td>00001.7848dde101aa985090474a91ec93fcf0</td>\n    </tr>\n    <tr>\n      <th>1</th>\n      <td>1</td>\n      <td>1) Fight The Risk of Cancer!\\n\\nhttp://www.adc...</td>\n      <td>00002.d94f1b97e48ed3b553b3508d116e6a09</td>\n    </tr>\n    <tr>\n      <th>2</th>\n      <td>1</td>\n      <td>1) Fight The Risk of Cancer!\\n\\nhttp://www.adc...</td>\n      <td>00003.2ee33bc6eacdb11f38d052c44819ba6c</td>\n    </tr>\n    <tr>\n      <th>3</th>\n      <td>1</td>\n      <td>##############################################...</td>\n      <td>00004.eac8de8d759b7e74154f142194282724</td>\n    </tr>\n    <tr>\n      <th>4</th>\n      <td>1</td>\n      <td>I thought you might like these:\\n\\n1) Slim Dow...</td>\n      <td>00005.57696a39d7d84318ce497886896bf90d</td>\n    </tr>\n  </tbody>\n</table>\n</div>"
     },
     "execution_count": 15,
     "metadata": {},
     "output_type": "execute_result"
    }
   ],
   "source": [
    "mail_df.set_index('doc_id', inplace=True)\n",
    "mail_df.head()"
   ],
   "metadata": {
    "collapsed": false
   }
  },
  {
   "cell_type": "code",
   "execution_count": 16,
   "outputs": [
    {
     "data": {
      "text/plain": "        category                                            message  \\\ndoc_id                                                                \n5791           0  http://news.bbc.co.uk/1/hi/england/2515127.stm...   \n5792           0  > >-- be careful when using this one.) Also, t...   \n5793           0  >>>>> \"SM\" == Skip Montanaro <skip@pobox.com> ...   \n5794           0  So then, \"Mark Hammond\" <mhammond@skippinet.co...   \n5795           0  Hi there,\\n\\n\\n\\nNow this is probably of no us...   \n\n                                     file_name  \ndoc_id                                          \n5791    01396.61983fbe6ec43f55fd44e30fce24ffa6  \n5792    01397.9f9ef4c2a8dc012d80f2ce2d3473d3b7  \n5793    01398.169b51731fe569f42169ae8f948ec676  \n5794    01399.ca6b00b7b341bbde9a9ea3dd6a7bf896  \n5795    01400.f897f0931e461e7b2e964d28e927c35e  ",
      "text/html": "<div>\n<style scoped>\n    .dataframe tbody tr th:only-of-type {\n        vertical-align: middle;\n    }\n\n    .dataframe tbody tr th {\n        vertical-align: top;\n    }\n\n    .dataframe thead th {\n        text-align: right;\n    }\n</style>\n<table border=\"1\" class=\"dataframe\">\n  <thead>\n    <tr style=\"text-align: right;\">\n      <th></th>\n      <th>category</th>\n      <th>message</th>\n      <th>file_name</th>\n    </tr>\n    <tr>\n      <th>doc_id</th>\n      <th></th>\n      <th></th>\n      <th></th>\n    </tr>\n  </thead>\n  <tbody>\n    <tr>\n      <th>5791</th>\n      <td>0</td>\n      <td>http://news.bbc.co.uk/1/hi/england/2515127.stm...</td>\n      <td>01396.61983fbe6ec43f55fd44e30fce24ffa6</td>\n    </tr>\n    <tr>\n      <th>5792</th>\n      <td>0</td>\n      <td>&gt; &gt;-- be careful when using this one.) Also, t...</td>\n      <td>01397.9f9ef4c2a8dc012d80f2ce2d3473d3b7</td>\n    </tr>\n    <tr>\n      <th>5793</th>\n      <td>0</td>\n      <td>&gt;&gt;&gt;&gt;&gt; \"SM\" == Skip Montanaro &lt;skip@pobox.com&gt; ...</td>\n      <td>01398.169b51731fe569f42169ae8f948ec676</td>\n    </tr>\n    <tr>\n      <th>5794</th>\n      <td>0</td>\n      <td>So then, \"Mark Hammond\" &lt;mhammond@skippinet.co...</td>\n      <td>01399.ca6b00b7b341bbde9a9ea3dd6a7bf896</td>\n    </tr>\n    <tr>\n      <th>5795</th>\n      <td>0</td>\n      <td>Hi there,\\n\\n\\n\\nNow this is probably of no us...</td>\n      <td>01400.f897f0931e461e7b2e964d28e927c35e</td>\n    </tr>\n  </tbody>\n</table>\n</div>"
     },
     "execution_count": 16,
     "metadata": {},
     "output_type": "execute_result"
    }
   ],
   "source": [
    "mail_df.tail()"
   ],
   "metadata": {
    "collapsed": false
   }
  },
  {
   "cell_type": "markdown",
   "source": [
    "# Save to File using Pandas"
   ],
   "metadata": {
    "collapsed": false
   }
  },
  {
   "cell_type": "code",
   "execution_count": 17,
   "outputs": [],
   "source": [
    "mail_df.to_json(mail_json_file)"
   ],
   "metadata": {
    "collapsed": false
   }
  },
  {
   "cell_type": "markdown",
   "source": [
    "# Number of Spam messages Visualised (Pie Chart)"
   ],
   "metadata": {
    "collapsed": false
   }
  },
  {
   "cell_type": "code",
   "execution_count": 18,
   "outputs": [
    {
     "data": {
      "text/plain": "0    3900\n1    1896\nName: category, dtype: int64"
     },
     "execution_count": 18,
     "metadata": {},
     "output_type": "execute_result"
    }
   ],
   "source": [
    "mail_df.category.value_counts()"
   ],
   "metadata": {
    "collapsed": false
   }
  },
  {
   "cell_type": "code",
   "execution_count": 19,
   "outputs": [],
   "source": [
    "amount_of_spam = mail_df.category.value_counts()[1]\n",
    "amount_of_ham = mail_df.category.value_counts()[0]"
   ],
   "metadata": {
    "collapsed": false
   }
  },
  {
   "cell_type": "markdown",
   "source": [],
   "metadata": {
    "collapsed": false
   }
  },
  {
   "cell_type": "code",
   "execution_count": 20,
   "outputs": [
    {
     "data": {
      "text/plain": "<Figure size 3632x2270 with 1 Axes>",
      "image/png": "[encoded data removed]"
     },
     "metadata": {},
     "output_type": "display_data"
    }
   ],
   "source": [
    "category = ['Spam', 'Legit Mail']\n",
    "sizes = [amount_of_spam, amount_of_ham]\n",
    "coustom_colours = ['#ff7675', '#00cec9']\n",
    "plt.figure(figsize=(16, 10), dpi=227)\n",
    "plt.pie(sizes, labels=category, textprops={'fontsize':16}, startangle=0, autopct='%1.1f%%', colors=coustom_colours, pctdistance=0.8)\n",
    "\n",
    "centre_scircle = plt.Circle((0, 0), radius=0.6, fc='white')\n",
    "plt.gca().add_artist(centre_scircle)\n",
    "\n",
    "plt.show()"
   ],
   "metadata": {
    "collapsed": false
   }
  },
  {
   "cell_type": "markdown",
   "source": [
    "# Natural language Processing\n",
    "\n",
    "## Text pre_processing\n"
   ],
   "metadata": {
    "collapsed": false
   }
  },
  {
   "cell_type": "code",
   "execution_count": 21,
   "outputs": [
    {
     "name": "stderr",
     "output_type": "stream",
     "text": [
      "[nltk_data] Downloading package punkt to\n",
      "[nltk_data]     C:\\Users\\Administrator\\AppData\\Roaming\\nltk_data...\n",
      "[nltk_data]   Package punkt is already up-to-date!\n"
     ]
    },
    {
     "data": {
      "text/plain": "True"
     },
     "execution_count": 21,
     "metadata": {},
     "output_type": "execute_result"
    }
   ],
   "source": [
    "nltk.download('punkt')"
   ],
   "metadata": {
    "collapsed": false
   }
  },
  {
   "cell_type": "code",
   "execution_count": 22,
   "outputs": [
    {
     "name": "stderr",
     "output_type": "stream",
     "text": [
      "[nltk_data] Downloading package stopwords to\n",
      "[nltk_data]     C:\\Users\\Administrator\\AppData\\Roaming\\nltk_data...\n",
      "[nltk_data]   Package stopwords is already up-to-date!\n"
     ]
    },
    {
     "data": {
      "text/plain": "True"
     },
     "execution_count": 22,
     "metadata": {},
     "output_type": "execute_result"
    }
   ],
   "source": [
    "nltk.download('stopwords')"
   ],
   "metadata": {
    "collapsed": false
   }
  },
  {
   "cell_type": "code",
   "execution_count": 23,
   "outputs": [
    {
     "name": "stderr",
     "output_type": "stream",
     "text": [
      "[nltk_data] Downloading package gutenberg to\n",
      "[nltk_data]     C:\\Users\\Administrator\\AppData\\Roaming\\nltk_data...\n",
      "[nltk_data]   Package gutenberg is already up-to-date!\n",
      "[nltk_data] Downloading package shakespeare to\n",
      "[nltk_data]     C:\\Users\\Administrator\\AppData\\Roaming\\nltk_data...\n",
      "[nltk_data]   Package shakespeare is already up-to-date!\n"
     ]
    },
    {
     "data": {
      "text/plain": "True"
     },
     "execution_count": 23,
     "metadata": {},
     "output_type": "execute_result"
    }
   ],
   "source": [
    "nltk.download('gutenberg')\n",
    "nltk.download('shakespeare')"
   ],
   "metadata": {
    "collapsed": false
   }
  },
  {
   "cell_type": "code",
   "execution_count": 24,
   "outputs": [
    {
     "data": {
      "text/plain": "['all', 'work', 'and', 'no', 'play', 'makes', 'jack', 'a', 'dull', 'boy', '.']"
     },
     "execution_count": 24,
     "metadata": {},
     "output_type": "execute_result"
    }
   ],
   "source": [
    "msg = 'All work and no play makes Jack a dull boy.'\n",
    "word_tokenize(msg.lower())"
   ],
   "metadata": {
    "collapsed": false
   }
  },
  {
   "cell_type": "code",
   "execution_count": 25,
   "outputs": [],
   "source": [
    "stop_words = set(stopwords.words('english'))"
   ],
   "metadata": {
    "collapsed": false
   }
  },
  {
   "cell_type": "code",
   "execution_count": 26,
   "outputs": [
    {
     "name": "stdout",
     "output_type": "stream",
     "text": [
      "['work', 'play', 'make', 'jack', 'dull', 'boy', '.', '.']\n"
     ]
    }
   ],
   "source": [
    "msg = 'All work and no play makes Jack a dull boy. To be or not to be.'\n",
    "words = word_tokenize(msg.lower())\n",
    "\n",
    "# stemmer = PorterStemmer()\n",
    "stemmer = SnowballStemmer('english')\n",
    "\n",
    "\n",
    "filtered_words = []\n",
    "for word in words:\n",
    "    if word not in stop_words:\n",
    "        stemmed_word = stemmer.stem(word)\n",
    "        filtered_words.append(stemmed_word)\n",
    "\n",
    "print(filtered_words)"
   ],
   "metadata": {
    "collapsed": false
   }
  },
  {
   "cell_type": "markdown",
   "source": [
    "# Removing Punctuation"
   ],
   "metadata": {
    "collapsed": false
   }
  },
  {
   "cell_type": "code",
   "execution_count": 27,
   "outputs": [
    {
     "name": "stdout",
     "output_type": "stream",
     "text": [
      "['work', 'play', 'make', 'jack', 'dull', 'boy']\n"
     ]
    }
   ],
   "source": [
    "msg = 'All work and no play makes Jack a dull boy. To be or not to be.'\n",
    "words = word_tokenize(msg.lower())\n",
    "\n",
    "# stemmer = PorterStemmer()\n",
    "stemmer = SnowballStemmer('english')\n",
    "\n",
    "\n",
    "filtered_words = []\n",
    "for word in words:\n",
    "    if word not in stop_words and word.isalpha():\n",
    "        stemmed_word = stemmer.stem(word)\n",
    "        filtered_words.append(stemmed_word)\n",
    "\n",
    "print(filtered_words)"
   ],
   "metadata": {
    "collapsed": false
   }
  },
  {
   "cell_type": "markdown",
   "source": [
    "# Functions for email processing"
   ],
   "metadata": {
    "collapsed": false
   }
  },
  {
   "cell_type": "code",
   "execution_count": 28,
   "outputs": [],
   "source": [
    "def clean_message(message, stemmer=PorterStemmer(),\n",
    "                  stop_words=None):\n",
    "    if stop_words is None:\n",
    "        stop_words = set(stopwords.words('english'))\n",
    "    soup = BeautifulSoup(message, 'html.parser')\n",
    "    words = word_tokenize(soup.get_text().lower())\n",
    "\n",
    "    fitted_words = []\n",
    "\n",
    "    for word in words:\n",
    "        if word not in stop_words and word.isalpha():\n",
    "            fitted_words.append(stemmer.stem(word))\n",
    "    return fitted_words"
   ],
   "metadata": {
    "collapsed": false
   }
  },
  {
   "cell_type": "code",
   "execution_count": 29,
   "outputs": [
    {
     "name": "stdout",
     "output_type": "stream",
     "text": [
      "['fight', 'risk', 'cancer', 'http', 'slim', 'guarante', 'lose', 'lb', 'day', 'http', 'get', 'child', 'support', 'deserv', 'free', 'legal', 'advic', 'http', 'join', 'web', 'fastest', 'grow', 'singl', 'commun', 'http', 'start', 'privat', 'photo', 'album', 'onlin', 'http', 'wonder', 'day', 'offer', 'manag', 'prizemama', 'wish', 'leav', 'list', 'pleas', 'use', 'link', 'http', 'zzzz']\n"
     ]
    }
   ],
   "source": [
    "print(clean_message(mail_df[mail_df.index == 2].message.item()))"
   ],
   "metadata": {
    "collapsed": false
   }
  },
  {
   "cell_type": "markdown",
   "source": [
    "# Apply Cleaning and Tokenisation to all messages"
   ],
   "metadata": {
    "collapsed": false
   }
  },
  {
   "cell_type": "code",
   "execution_count": 30,
   "outputs": [
    {
     "data": {
      "text/plain": "'00003.2ee33bc6eacdb11f38d052c44819ba6c'"
     },
     "execution_count": 30,
     "metadata": {},
     "output_type": "execute_result"
    }
   ],
   "source": [
    "mail_df.iat[2, 2]"
   ],
   "metadata": {
    "collapsed": false
   }
  },
  {
   "cell_type": "code",
   "execution_count": 31,
   "outputs": [
    {
     "data": {
      "text/plain": "        category                                            message  \\\ndoc_id                                                                \n5              1  A POWERHOUSE GIFTING PROGRAM You Don't Want To...   \n6              1  Help wanted.  We are a 14 year old fortune 500...   \n7              1  <html>\\n\\n<head>\\n\\n<title>ReliaQuote - Save U...   \n8              1  TIRED OF THE BULL OUT THERE?\\n\\nWant To Stop L...   \n9              1  Dear ricardo1 ,\\n\\n\\n\\n<html>\\n\\n<body>\\n\\n<ce...   \n10             1  Cellular Phone Accessories All At Below Wholes...   \n\n                                     file_name  \ndoc_id                                          \n5       00006.5ab5620d3d7c6c0db76234556a16f6c1  \n6       00007.d8521faf753ff9ee989122f6816f87d7  \n7       00008.dfd941deb10f5eed78b1594b131c9266  \n8       00009.027bf6e0b0c4ab34db3ce0ea4bf2edab  \n9       00010.445affef4c70feec58f9198cfbc22997  \n10      00011.61816b9ad167657773a427d890d0468e  ",
      "text/html": "<div>\n<style scoped>\n    .dataframe tbody tr th:only-of-type {\n        vertical-align: middle;\n    }\n\n    .dataframe tbody tr th {\n        vertical-align: top;\n    }\n\n    .dataframe thead th {\n        text-align: right;\n    }\n</style>\n<table border=\"1\" class=\"dataframe\">\n  <thead>\n    <tr style=\"text-align: right;\">\n      <th></th>\n      <th>category</th>\n      <th>message</th>\n      <th>file_name</th>\n    </tr>\n    <tr>\n      <th>doc_id</th>\n      <th></th>\n      <th></th>\n      <th></th>\n    </tr>\n  </thead>\n  <tbody>\n    <tr>\n      <th>5</th>\n      <td>1</td>\n      <td>A POWERHOUSE GIFTING PROGRAM You Don't Want To...</td>\n      <td>00006.5ab5620d3d7c6c0db76234556a16f6c1</td>\n    </tr>\n    <tr>\n      <th>6</th>\n      <td>1</td>\n      <td>Help wanted.  We are a 14 year old fortune 500...</td>\n      <td>00007.d8521faf753ff9ee989122f6816f87d7</td>\n    </tr>\n    <tr>\n      <th>7</th>\n      <td>1</td>\n      <td>&lt;html&gt;\\n\\n&lt;head&gt;\\n\\n&lt;title&gt;ReliaQuote - Save U...</td>\n      <td>00008.dfd941deb10f5eed78b1594b131c9266</td>\n    </tr>\n    <tr>\n      <th>8</th>\n      <td>1</td>\n      <td>TIRED OF THE BULL OUT THERE?\\n\\nWant To Stop L...</td>\n      <td>00009.027bf6e0b0c4ab34db3ce0ea4bf2edab</td>\n    </tr>\n    <tr>\n      <th>9</th>\n      <td>1</td>\n      <td>Dear ricardo1 ,\\n\\n\\n\\n&lt;html&gt;\\n\\n&lt;body&gt;\\n\\n&lt;ce...</td>\n      <td>00010.445affef4c70feec58f9198cfbc22997</td>\n    </tr>\n    <tr>\n      <th>10</th>\n      <td>1</td>\n      <td>Cellular Phone Accessories All At Below Wholes...</td>\n      <td>00011.61816b9ad167657773a427d890d0468e</td>\n    </tr>\n  </tbody>\n</table>\n</div>"
     },
     "execution_count": 31,
     "metadata": {},
     "output_type": "execute_result"
    }
   ],
   "source": [
    "mail_df.iloc[5:11]"
   ],
   "metadata": {
    "collapsed": false
   }
  },
  {
   "cell_type": "code",
   "execution_count": 32,
   "outputs": [],
   "source": [
    "first_mail = mail_df.iloc[0:3]\n",
    "nested_list = first_mail.message.apply(clean_message)"
   ],
   "metadata": {
    "collapsed": false
   }
  },
  {
   "cell_type": "code",
   "execution_count": 33,
   "outputs": [
    {
     "data": {
      "text/plain": "['save',\n 'life',\n 'insur',\n 'spend',\n 'life',\n 'quot',\n 'save',\n 'g',\n 'famili',\n 'financi',\n 'secur',\n 'import',\n 'life',\n 'quot',\n 'save',\n 'ke',\n 'buy',\n 'life',\n 'insur',\n 'simpl',\n 'afford',\n 'provid',\n 'free',\n 'access',\n 'best',\n 'compani',\n 'lowest',\n 'rate',\n 'life',\n 'quot',\n 'save',\n 'fast',\n 'save',\n 'money',\n 'let',\n 'us',\n 'help',\n 'get',\n 'start',\n 'best',\n 'ue',\n 'countri',\n 'new',\n 'coverag',\n 'save',\n 'hundr',\n 'even',\n 'usand',\n 'dollar',\n 'request',\n 'free',\n 'quot',\n 'lifequot',\n 'save',\n 'servic',\n 'take',\n 'less',\n 'minut',\n 'complet',\n 'shop',\n 'compar',\n 'save',\n 'type',\n 'life',\n 'insur',\n 'click',\n 'free',\n 'quot',\n 'protect',\n 'famili',\n 'best',\n 'invest',\n 'r',\n 'make',\n 'receipt',\n 'email',\n 'error',\n 'wish',\n 'remov',\n 'list',\n 'pleas',\n 'click',\n 'type',\n 'remov',\n 'resid',\n 'state',\n 'prohibit',\n 'solicit',\n 'ce',\n 'pleas',\n 'disregard',\n 'email',\n 'fight',\n 'risk',\n 'cancer',\n 'http',\n 'slim',\n 'guarante',\n 'lose',\n 'lb',\n 'day',\n 'http',\n 'get',\n 'child',\n 'support',\n 'deserv',\n 'free',\n 'legal',\n 'advic',\n 'http',\n 'join',\n 'web',\n 'fastest',\n 'grow',\n 'singl',\n 'commun',\n 'http',\n 'start',\n 'privat',\n 'photo',\n 'album',\n 'onlin',\n 'http',\n 'wonder',\n 'day',\n 'offer',\n 'manag',\n 'prizemama',\n 'wish',\n 'leav',\n 'list',\n 'pleas',\n 'use',\n 'link',\n 'http',\n 'ilug',\n 'irish',\n 'linux',\n 'user',\n 'group',\n 'ilug',\n 'http',\n 'un',\n 'subscript',\n 'inform',\n 'list',\n 'maintain',\n 'listmast',\n 'fight',\n 'risk',\n 'cancer',\n 'http',\n 'slim',\n 'guarante',\n 'lose',\n 'lb',\n 'day',\n 'http',\n 'get',\n 'child',\n 'support',\n 'deserv',\n 'free',\n 'legal',\n 'advic',\n 'http',\n 'join',\n 'web',\n 'fastest',\n 'grow',\n 'singl',\n 'commun',\n 'http',\n 'start',\n 'privat',\n 'photo',\n 'album',\n 'onlin',\n 'http',\n 'wonder',\n 'day',\n 'offer',\n 'manag',\n 'prizemama',\n 'wish',\n 'leav',\n 'list',\n 'pleas',\n 'use',\n 'link',\n 'http',\n 'zzzz']"
     },
     "execution_count": 33,
     "metadata": {},
     "output_type": "execute_result"
    }
   ],
   "source": [
    "flat_lst = []\n",
    "for sublist in  nested_list:\n",
    "    for item in sublist:\n",
    "        flat_lst.append(item)\n",
    "flat_lst"
   ],
   "metadata": {
    "collapsed": false
   }
  },
  {
   "cell_type": "code",
   "execution_count": 34,
   "outputs": [
    {
     "data": {
      "text/plain": "['save',\n 'life',\n 'insur',\n 'spend',\n 'life',\n 'quot',\n 'save',\n 'g',\n 'famili',\n 'financi',\n 'secur',\n 'import',\n 'life',\n 'quot',\n 'save',\n 'ke',\n 'buy',\n 'life',\n 'insur',\n 'simpl',\n 'afford',\n 'provid',\n 'free',\n 'access',\n 'best',\n 'compani',\n 'lowest',\n 'rate',\n 'life',\n 'quot',\n 'save',\n 'fast',\n 'save',\n 'money',\n 'let',\n 'us',\n 'help',\n 'get',\n 'start',\n 'best',\n 'ue',\n 'countri',\n 'new',\n 'coverag',\n 'save',\n 'hundr',\n 'even',\n 'usand',\n 'dollar',\n 'request',\n 'free',\n 'quot',\n 'lifequot',\n 'save',\n 'servic',\n 'take',\n 'less',\n 'minut',\n 'complet',\n 'shop',\n 'compar',\n 'save',\n 'type',\n 'life',\n 'insur',\n 'click',\n 'free',\n 'quot',\n 'protect',\n 'famili',\n 'best',\n 'invest',\n 'r',\n 'make',\n 'receipt',\n 'email',\n 'error',\n 'wish',\n 'remov',\n 'list',\n 'pleas',\n 'click',\n 'type',\n 'remov',\n 'resid',\n 'state',\n 'prohibit',\n 'solicit',\n 'ce',\n 'pleas',\n 'disregard',\n 'email',\n 'fight',\n 'risk',\n 'cancer',\n 'http',\n 'slim',\n 'guarante',\n 'lose',\n 'lb',\n 'day',\n 'http',\n 'get',\n 'child',\n 'support',\n 'deserv',\n 'free',\n 'legal',\n 'advic',\n 'http',\n 'join',\n 'web',\n 'fastest',\n 'grow',\n 'singl',\n 'commun',\n 'http',\n 'start',\n 'privat',\n 'photo',\n 'album',\n 'onlin',\n 'http',\n 'wonder',\n 'day',\n 'offer',\n 'manag',\n 'prizemama',\n 'wish',\n 'leav',\n 'list',\n 'pleas',\n 'use',\n 'link',\n 'http',\n 'ilug',\n 'irish',\n 'linux',\n 'user',\n 'group',\n 'ilug',\n 'http',\n 'un',\n 'subscript',\n 'inform',\n 'list',\n 'maintain',\n 'listmast',\n 'fight',\n 'risk',\n 'cancer',\n 'http',\n 'slim',\n 'guarante',\n 'lose',\n 'lb',\n 'day',\n 'http',\n 'get',\n 'child',\n 'support',\n 'deserv',\n 'free',\n 'legal',\n 'advic',\n 'http',\n 'join',\n 'web',\n 'fastest',\n 'grow',\n 'singl',\n 'commun',\n 'http',\n 'start',\n 'privat',\n 'photo',\n 'album',\n 'onlin',\n 'http',\n 'wonder',\n 'day',\n 'offer',\n 'manag',\n 'prizemama',\n 'wish',\n 'leav',\n 'list',\n 'pleas',\n 'use',\n 'link',\n 'http',\n 'zzzz']"
     },
     "execution_count": 34,
     "metadata": {},
     "output_type": "execute_result"
    }
   ],
   "source": [
    "flat_lst = [item for sublist in nested_list for item in sublist]\n",
    "flat_lst"
   ],
   "metadata": {
    "collapsed": false
   }
  },
  {
   "cell_type": "code",
   "execution_count": 35,
   "outputs": [
    {
     "name": "stderr",
     "output_type": "stream",
     "text": [
      "C:\\Program Files\\Python311\\Lib\\site-packages\\bs4\\__init__.py:435: MarkupResemblesLocatorWarning: The input looks more like a filename than markup. You may want to open this file and pass the filehandle into Beautiful Soup.\n",
      "  warnings.warn(\n",
      "C:\\Program Files\\Python311\\Lib\\site-packages\\bs4\\__init__.py:404: MarkupResemblesLocatorWarning: The input looks more like a URL than markup. You may want to use an HTTP client like requests to get the document behind the URL, and feed that document to Beautiful Soup.\n",
      "  warnings.warn(\n"
     ]
    },
    {
     "name": "stdout",
     "output_type": "stream",
     "text": [
      "CPU times: total: 7.31 s\n",
      "Wall time: 41.2 s\n"
     ]
    }
   ],
   "source": [
    "%%time\n",
    "\n",
    "nested_list = mail_df.message.apply(clean_message)"
   ],
   "metadata": {
    "collapsed": false
   }
  },
  {
   "cell_type": "code",
   "execution_count": 36,
   "outputs": [
    {
     "data": {
      "text/plain": "doc_id\n5791    [http, bizarr, collect, stuf, anim, could, fet...\n5792    [care, use, one, also, realli, cute, thing, ja...\n5793    [sm, skip, montanaro, write, jeremi, put, anot...\n5794    [mark, hammond, like, given, zodb, sound, attr...\n5795    [hi, probabl, use, whatsoev, also, problem, re...\nName: message, dtype: object"
     },
     "execution_count": 36,
     "metadata": {},
     "output_type": "execute_result"
    }
   ],
   "source": [
    "nested_list.tail()"
   ],
   "metadata": {
    "collapsed": false
   }
  },
  {
   "cell_type": "markdown",
   "source": [
    "## Using Logic to Slice Dataframes"
   ],
   "metadata": {
    "collapsed": false
   }
  },
  {
   "cell_type": "code",
   "execution_count": 41,
   "outputs": [
    {
     "data": {
      "text/plain": "Int64Index([1896, 1897, 1898, 1899, 1900, 1901, 1902, 1903, 1904, 1905,\n            ...\n            5786, 5787, 5788, 5789, 5790, 5791, 5792, 5793, 5794, 5795],\n           dtype='int64', name='doc_id', length=3900)"
     },
     "execution_count": 41,
     "metadata": {},
     "output_type": "execute_result"
    }
   ],
   "source": [
    "spam_slice = mail_df[mail_df.category == 1].index\n",
    "ham_slice = mail_df[mail_df.category == 0].index\n",
    "ham_slice"
   ],
   "metadata": {
    "collapsed": false
   }
  },
  {
   "cell_type": "markdown",
   "source": [
    "### Subsetting series with an index"
   ],
   "metadata": {
    "collapsed": false
   }
  },
  {
   "cell_type": "code",
   "execution_count": 43,
   "outputs": [],
   "source": [
    "nested_list_spam = nested_list.loc[spam_slice]\n",
    "nested_list_ham = nested_list.loc[ham_slice]"
   ],
   "metadata": {
    "collapsed": false
   }
  },
  {
   "cell_type": "code",
   "execution_count": 53,
   "outputs": [
    {
     "name": "stdout",
     "output_type": "stream",
     "text": [
      "Spam word count: 317502 \n",
      "Ham word count: 442056\n"
     ]
    }
   ],
   "source": [
    "all_words_spam = [sublist for list in nested_list_spam for sublist in list]\n",
    "all_words_ham = [sublist for list in nested_list_ham for sublist in list]\n",
    "print('Spam word count:', len(all_words_spam),'\\nHam word count:', len(all_words_ham))"
   ],
   "metadata": {
    "collapsed": false
   }
  },
  {
   "cell_type": "code",
   "execution_count": 66,
   "outputs": [
    {
     "name": "stdout",
     "output_type": "stream",
     "text": [
      "10 most common words in spam:\n",
      " http      3097\n",
      "email     3090\n",
      "free      2585\n",
      "click     2058\n",
      "receiv    1989\n",
      "list      1971\n",
      "get       1914\n",
      "pleas     1852\n",
      "busi      1792\n",
      "order     1746\n",
      "dtype: int64\n",
      "10 most common words in ham:\n",
      " http      7563\n",
      "use       3633\n",
      "list      2880\n",
      "one       2373\n",
      "get       2286\n",
      "mail      2255\n",
      "would     2003\n",
      "like      1931\n",
      "messag    1849\n",
      "work      1800\n",
      "dtype: int64\n"
     ]
    }
   ],
   "source": [
    "print('10 most common words in spam:\\n',\n",
    "      pd.DataFrame(all_words_spam).value_counts().head(10))\n",
    "print('10 most common words in ham:\\n',\n",
    "      pd.DataFrame(all_words_ham).value_counts().head(10))"
   ],
   "metadata": {
    "collapsed": false
   }
  },
  {
   "cell_type": "markdown",
   "source": [
    "# Generate Vocabulary and Dictionary"
   ],
   "metadata": {
    "collapsed": false
   }
  },
  {
   "cell_type": "code",
   "execution_count": 69,
   "outputs": [
    {
     "data": {
      "text/plain": "http     10660\nuse       5019\nlist      4851\nemail     4367\nget       4200\ndtype: int64"
     },
     "execution_count": 69,
     "metadata": {},
     "output_type": "execute_result"
    }
   ],
   "source": [
    "flat_all_list = [item for sublist in nested_list for item in sublist]\n",
    "pd.Series(flat_all_list).value_counts().head()"
   ],
   "metadata": {
    "collapsed": false
   }
  },
  {
   "cell_type": "code",
   "execution_count": 73,
   "outputs": [
    {
     "data": {
      "text/plain": "http     10660\nuse       5019\nlist      4851\nemail     4367\nget       4200\nmail      3983\none       3907\nfree      3202\ntime      3042\nwork      2883\ndtype: int64"
     },
     "execution_count": 73,
     "metadata": {},
     "output_type": "execute_result"
    }
   ],
   "source": [
    "frequent_words =  pd.Series(flat_all_list).value_counts().head(vocab_size)\n",
    "frequent_words.head(10)"
   ],
   "metadata": {
    "collapsed": false
   }
  },
  {
   "cell_type": "markdown",
   "source": [
    "## Create Vocabulary DataFrame with a WORD_ID"
   ],
   "metadata": {
    "collapsed": false
   }
  },
  {
   "cell_type": "code",
   "execution_count": 78,
   "outputs": [],
   "source": [
    "word_id = list(range(0, vocab_size))\n",
    "\n",
    "vocab = pd.DataFrame({'vocab_word': frequent_words.index.values}, index=word_id)"
   ],
   "metadata": {
    "collapsed": false
   }
  },
  {
   "cell_type": "code",
   "execution_count": 79,
   "outputs": [
    {
     "data": {
      "text/plain": "     vocab_word\n0          http\n1           use\n2          list\n3         email\n4           get\n...         ...\n2495        bob\n2496   occasion\n2497     bullet\n2498     steven\n2499     analog\n\n[2500 rows x 1 columns]",
      "text/html": "<div>\n<style scoped>\n    .dataframe tbody tr th:only-of-type {\n        vertical-align: middle;\n    }\n\n    .dataframe tbody tr th {\n        vertical-align: top;\n    }\n\n    .dataframe thead th {\n        text-align: right;\n    }\n</style>\n<table border=\"1\" class=\"dataframe\">\n  <thead>\n    <tr style=\"text-align: right;\">\n      <th></th>\n      <th>vocab_word</th>\n    </tr>\n  </thead>\n  <tbody>\n    <tr>\n      <th>0</th>\n      <td>http</td>\n    </tr>\n    <tr>\n      <th>1</th>\n      <td>use</td>\n    </tr>\n    <tr>\n      <th>2</th>\n      <td>list</td>\n    </tr>\n    <tr>\n      <th>3</th>\n      <td>email</td>\n    </tr>\n    <tr>\n      <th>4</th>\n      <td>get</td>\n    </tr>\n    <tr>\n      <th>...</th>\n      <td>...</td>\n    </tr>\n    <tr>\n      <th>2495</th>\n      <td>bob</td>\n    </tr>\n    <tr>\n      <th>2496</th>\n      <td>occasion</td>\n    </tr>\n    <tr>\n      <th>2497</th>\n      <td>bullet</td>\n    </tr>\n    <tr>\n      <th>2498</th>\n      <td>steven</td>\n    </tr>\n    <tr>\n      <th>2499</th>\n      <td>analog</td>\n    </tr>\n  </tbody>\n</table>\n<p>2500 rows × 1 columns</p>\n</div>"
     },
     "execution_count": 79,
     "metadata": {},
     "output_type": "execute_result"
    }
   ],
   "source": [
    "vocab"
   ],
   "metadata": {
    "collapsed": false
   }
  },
  {
   "cell_type": "markdown",
   "source": [
    "## save the vocabulary as a CSV file"
   ],
   "metadata": {
    "collapsed": false
   }
  },
  {
   "cell_type": "code",
   "execution_count": 82,
   "outputs": [],
   "source": [
    "vocab.to_csv(word_id_json_file, index=vocab.index.name, header='vocab_word')"
   ],
   "metadata": {
    "collapsed": false
   }
  },
  {
   "cell_type": "code",
   "execution_count": 84,
   "outputs": [
    {
     "name": "stdout",
     "output_type": "stream",
     "text": [
      "fun True\n",
      "science False\n",
      "sport True\n",
      "machine False\n",
      "computer False\n",
      "clear True\n"
     ]
    }
   ],
   "source": [
    "wrd_list = ['fun', 'science', 'sport', 'machine', 'computer', 'clear']\n",
    "\n",
    "for word in wrd_list:\n",
    "    print(word ,word in set(vocab.vocab_word.values))"
   ],
   "metadata": {
    "collapsed": false
   }
  },
  {
   "cell_type": "markdown",
   "source": [
    "# Email with most number of words"
   ],
   "metadata": {
    "collapsed": false
   }
  },
  {
   "cell_type": "code",
   "execution_count": 98,
   "outputs": [],
   "source": [
    "df = pd.DataFrame(nested_list)"
   ],
   "metadata": {
    "collapsed": false
   }
  },
  {
   "cell_type": "code",
   "execution_count": 124,
   "outputs": [
    {
     "name": "stdout",
     "output_type": "stream",
     "text": [
      "Number of words in the longest email: 7671\n",
      " at index: 5775\n"
     ]
    }
   ],
   "source": [
    "print(f'Number of words in the longest email: {len(df[df.message.str.len() == nested_list.str.len().max()].message.to_list()[0])}\\n at index: {df[df.message.str.len() == nested_list.str.len().max()].index[0]}')"
   ],
   "metadata": {
    "collapsed": false
   }
  },
  {
   "cell_type": "markdown",
   "source": [
    "# Generate Functions & and Sparse Matrix\n",
    "\n",
    "## Creating Dataframe with one work per column"
   ],
   "metadata": {
    "collapsed": false
   }
  },
  {
   "cell_type": "code",
   "execution_count": 125,
   "outputs": [],
   "source": [
    "word_columns_df = pd.DataFrame.from_records(nested_list.tolist())"
   ],
   "metadata": {
    "collapsed": false
   }
  },
  {
   "cell_type": "code",
   "execution_count": 127,
   "outputs": [
    {
     "data": {
      "text/plain": "      0      1       2      3           4         5       6     7       8     \\\n0     save   life   insur  spend        life      quot    save     g  famili   \n1    fight   risk  cancer   http        slim  guarante    lose    lb     day   \n2    fight   risk  cancer   http        slim  guarante    lose    lb     day   \n3    adult   club   offer   free  membership   instant  access  site    user   \n4  thought  might    like   slim    guarante      lose      lb   day    http   \n\n      9     ...  7661  7662  7663  7664  7665  7666  7667  7668  7669  7670  \n0  financi  ...  None  None  None  None  None  None  None  None  None  None  \n1     http  ...  None  None  None  None  None  None  None  None  None  None  \n2     http  ...  None  None  None  None  None  None  None  None  None  None  \n3     name  ...  None  None  None  None  None  None  None  None  None  None  \n4    fight  ...  None  None  None  None  None  None  None  None  None  None  \n\n[5 rows x 7671 columns]",
      "text/html": "<div>\n<style scoped>\n    .dataframe tbody tr th:only-of-type {\n        vertical-align: middle;\n    }\n\n    .dataframe tbody tr th {\n        vertical-align: top;\n    }\n\n    .dataframe thead th {\n        text-align: right;\n    }\n</style>\n<table border=\"1\" class=\"dataframe\">\n  <thead>\n    <tr style=\"text-align: right;\">\n      <th></th>\n      <th>0</th>\n      <th>1</th>\n      <th>2</th>\n      <th>3</th>\n      <th>4</th>\n      <th>5</th>\n      <th>6</th>\n      <th>7</th>\n      <th>8</th>\n      <th>9</th>\n      <th>...</th>\n      <th>7661</th>\n      <th>7662</th>\n      <th>7663</th>\n      <th>7664</th>\n      <th>7665</th>\n      <th>7666</th>\n      <th>7667</th>\n      <th>7668</th>\n      <th>7669</th>\n      <th>7670</th>\n    </tr>\n  </thead>\n  <tbody>\n    <tr>\n      <th>0</th>\n      <td>save</td>\n      <td>life</td>\n      <td>insur</td>\n      <td>spend</td>\n      <td>life</td>\n      <td>quot</td>\n      <td>save</td>\n      <td>g</td>\n      <td>famili</td>\n      <td>financi</td>\n      <td>...</td>\n      <td>None</td>\n      <td>None</td>\n      <td>None</td>\n      <td>None</td>\n      <td>None</td>\n      <td>None</td>\n      <td>None</td>\n      <td>None</td>\n      <td>None</td>\n      <td>None</td>\n    </tr>\n    <tr>\n      <th>1</th>\n      <td>fight</td>\n      <td>risk</td>\n      <td>cancer</td>\n      <td>http</td>\n      <td>slim</td>\n      <td>guarante</td>\n      <td>lose</td>\n      <td>lb</td>\n      <td>day</td>\n      <td>http</td>\n      <td>...</td>\n      <td>None</td>\n      <td>None</td>\n      <td>None</td>\n      <td>None</td>\n      <td>None</td>\n      <td>None</td>\n      <td>None</td>\n      <td>None</td>\n      <td>None</td>\n      <td>None</td>\n    </tr>\n    <tr>\n      <th>2</th>\n      <td>fight</td>\n      <td>risk</td>\n      <td>cancer</td>\n      <td>http</td>\n      <td>slim</td>\n      <td>guarante</td>\n      <td>lose</td>\n      <td>lb</td>\n      <td>day</td>\n      <td>http</td>\n      <td>...</td>\n      <td>None</td>\n      <td>None</td>\n      <td>None</td>\n      <td>None</td>\n      <td>None</td>\n      <td>None</td>\n      <td>None</td>\n      <td>None</td>\n      <td>None</td>\n      <td>None</td>\n    </tr>\n    <tr>\n      <th>3</th>\n      <td>adult</td>\n      <td>club</td>\n      <td>offer</td>\n      <td>free</td>\n      <td>membership</td>\n      <td>instant</td>\n      <td>access</td>\n      <td>site</td>\n      <td>user</td>\n      <td>name</td>\n      <td>...</td>\n      <td>None</td>\n      <td>None</td>\n      <td>None</td>\n      <td>None</td>\n      <td>None</td>\n      <td>None</td>\n      <td>None</td>\n      <td>None</td>\n      <td>None</td>\n      <td>None</td>\n    </tr>\n    <tr>\n      <th>4</th>\n      <td>thought</td>\n      <td>might</td>\n      <td>like</td>\n      <td>slim</td>\n      <td>guarante</td>\n      <td>lose</td>\n      <td>lb</td>\n      <td>day</td>\n      <td>http</td>\n      <td>fight</td>\n      <td>...</td>\n      <td>None</td>\n      <td>None</td>\n      <td>None</td>\n      <td>None</td>\n      <td>None</td>\n      <td>None</td>\n      <td>None</td>\n      <td>None</td>\n      <td>None</td>\n      <td>None</td>\n    </tr>\n  </tbody>\n</table>\n<p>5 rows × 7671 columns</p>\n</div>"
     },
     "execution_count": 127,
     "metadata": {},
     "output_type": "execute_result"
    }
   ],
   "source": [
    "word_columns_df.head()"
   ],
   "metadata": {
    "collapsed": false
   }
  },
  {
   "cell_type": "code",
   "execution_count": 128,
   "outputs": [
    {
     "data": {
      "text/plain": "(5796, 7671)"
     },
     "execution_count": 128,
     "metadata": {},
     "output_type": "execute_result"
    }
   ],
   "source": [
    "word_columns_df.shape"
   ],
   "metadata": {
    "collapsed": false
   }
  },
  {
   "cell_type": "markdown",
   "source": [
    "### Splitting the Data into a Training and Testing Dataset"
   ],
   "metadata": {
    "collapsed": false
   }
  },
  {
   "cell_type": "code",
   "execution_count": 131,
   "outputs": [],
   "source": [
    "\n",
    "x_train, x_test, y_train, y_test = train_test_split(word_columns_df, mail_df.category, test_size=0.3, random_state=42)"
   ],
   "metadata": {
    "collapsed": false
   }
  },
  {
   "cell_type": "code",
   "execution_count": 134,
   "outputs": [
    {
     "name": "stdout",
     "output_type": "stream",
     "text": [
      "Nr. of training samples 4057\n",
      "Fraction of Training set 0.6999654934437544\n"
     ]
    }
   ],
   "source": [
    "print('Nr. of training samples', x_train.shape[0])\n",
    "print('Fraction of Training set', x_train.shape[0]/word_columns_df.shape[0])"
   ],
   "metadata": {
    "collapsed": false
   }
  },
  {
   "cell_type": "code",
   "execution_count": 137,
   "outputs": [
    {
     "data": {
      "text/plain": "           0       1      2          3            4      5        6     \\\ndoc_id                                                                   \n4844         ye    inde  agent  directori       verita     cd     unix   \n4727    problem    come    tri     instal  harddissssk   like  alreadi   \n5022     origin  messag   date        mon          aug   chad  norwood   \n3504      inlin    folk  sever      major     internet  outag     morn   \n3921        url    http   date       bath     chronicl   None     None   \n\n                7      8        9     ...  7661  7662  7663  7664  7665  7666  \\\ndoc_id                                ...                                       \n4844    subdirectori   file     call  ...  None  None  None  None  None  None   \n4727           mount   http    yahoo  ...  None  None  None  None  None  None   \n5022            sven     cc  subject  ...  None  None  None  None  None  None   \n3504          across  major   provid  ...  None  None  None  None  None  None   \n3921            None   None     None  ...  None  None  None  None  None  None   \n\n        7667  7668  7669  7670  \ndoc_id                          \n4844    None  None  None  None  \n4727    None  None  None  None  \n5022    None  None  None  None  \n3504    None  None  None  None  \n3921    None  None  None  None  \n\n[5 rows x 7671 columns]",
      "text/html": "<div>\n<style scoped>\n    .dataframe tbody tr th:only-of-type {\n        vertical-align: middle;\n    }\n\n    .dataframe tbody tr th {\n        vertical-align: top;\n    }\n\n    .dataframe thead th {\n        text-align: right;\n    }\n</style>\n<table border=\"1\" class=\"dataframe\">\n  <thead>\n    <tr style=\"text-align: right;\">\n      <th></th>\n      <th>0</th>\n      <th>1</th>\n      <th>2</th>\n      <th>3</th>\n      <th>4</th>\n      <th>5</th>\n      <th>6</th>\n      <th>7</th>\n      <th>8</th>\n      <th>9</th>\n      <th>...</th>\n      <th>7661</th>\n      <th>7662</th>\n      <th>7663</th>\n      <th>7664</th>\n      <th>7665</th>\n      <th>7666</th>\n      <th>7667</th>\n      <th>7668</th>\n      <th>7669</th>\n      <th>7670</th>\n    </tr>\n    <tr>\n      <th>doc_id</th>\n      <th></th>\n      <th></th>\n      <th></th>\n      <th></th>\n      <th></th>\n      <th></th>\n      <th></th>\n      <th></th>\n      <th></th>\n      <th></th>\n      <th></th>\n      <th></th>\n      <th></th>\n      <th></th>\n      <th></th>\n      <th></th>\n      <th></th>\n      <th></th>\n      <th></th>\n      <th></th>\n      <th></th>\n    </tr>\n  </thead>\n  <tbody>\n    <tr>\n      <th>4844</th>\n      <td>ye</td>\n      <td>inde</td>\n      <td>agent</td>\n      <td>directori</td>\n      <td>verita</td>\n      <td>cd</td>\n      <td>unix</td>\n      <td>subdirectori</td>\n      <td>file</td>\n      <td>call</td>\n      <td>...</td>\n      <td>None</td>\n      <td>None</td>\n      <td>None</td>\n      <td>None</td>\n      <td>None</td>\n      <td>None</td>\n      <td>None</td>\n      <td>None</td>\n      <td>None</td>\n      <td>None</td>\n    </tr>\n    <tr>\n      <th>4727</th>\n      <td>problem</td>\n      <td>come</td>\n      <td>tri</td>\n      <td>instal</td>\n      <td>harddissssk</td>\n      <td>like</td>\n      <td>alreadi</td>\n      <td>mount</td>\n      <td>http</td>\n      <td>yahoo</td>\n      <td>...</td>\n      <td>None</td>\n      <td>None</td>\n      <td>None</td>\n      <td>None</td>\n      <td>None</td>\n      <td>None</td>\n      <td>None</td>\n      <td>None</td>\n      <td>None</td>\n      <td>None</td>\n    </tr>\n    <tr>\n      <th>5022</th>\n      <td>origin</td>\n      <td>messag</td>\n      <td>date</td>\n      <td>mon</td>\n      <td>aug</td>\n      <td>chad</td>\n      <td>norwood</td>\n      <td>sven</td>\n      <td>cc</td>\n      <td>subject</td>\n      <td>...</td>\n      <td>None</td>\n      <td>None</td>\n      <td>None</td>\n      <td>None</td>\n      <td>None</td>\n      <td>None</td>\n      <td>None</td>\n      <td>None</td>\n      <td>None</td>\n      <td>None</td>\n    </tr>\n    <tr>\n      <th>3504</th>\n      <td>inlin</td>\n      <td>folk</td>\n      <td>sever</td>\n      <td>major</td>\n      <td>internet</td>\n      <td>outag</td>\n      <td>morn</td>\n      <td>across</td>\n      <td>major</td>\n      <td>provid</td>\n      <td>...</td>\n      <td>None</td>\n      <td>None</td>\n      <td>None</td>\n      <td>None</td>\n      <td>None</td>\n      <td>None</td>\n      <td>None</td>\n      <td>None</td>\n      <td>None</td>\n      <td>None</td>\n    </tr>\n    <tr>\n      <th>3921</th>\n      <td>url</td>\n      <td>http</td>\n      <td>date</td>\n      <td>bath</td>\n      <td>chronicl</td>\n      <td>None</td>\n      <td>None</td>\n      <td>None</td>\n      <td>None</td>\n      <td>None</td>\n      <td>...</td>\n      <td>None</td>\n      <td>None</td>\n      <td>None</td>\n      <td>None</td>\n      <td>None</td>\n      <td>None</td>\n      <td>None</td>\n      <td>None</td>\n      <td>None</td>\n      <td>None</td>\n    </tr>\n  </tbody>\n</table>\n<p>5 rows × 7671 columns</p>\n</div>"
     },
     "execution_count": 137,
     "metadata": {},
     "output_type": "execute_result"
    }
   ],
   "source": [
    "x_train.index.name = x_test.index.name = 'doc_id'\n",
    "x_train.head()"
   ],
   "metadata": {
    "collapsed": false
   }
  },
  {
   "cell_type": "markdown",
   "source": [
    "# create a sparce matrix"
   ],
   "metadata": {
    "collapsed": false
   }
  },
  {
   "cell_type": "code",
   "execution_count": 138,
   "outputs": [],
   "source": [
    "word_index = pd.Index(vocab.vocab_word)"
   ],
   "metadata": {
    "collapsed": false
   }
  },
  {
   "cell_type": "code",
   "execution_count": 140,
   "outputs": [],
   "source": [
    "def make_sparce_matrix(df, indexed_words, labels):\n",
    "    nr_rows = df.shape[0]\n",
    "    nr_cols = df.shape[1]\n",
    "    word_set = set(indexed_words)\n",
    "    dict_list = []\n",
    "    for row in range(nr_rows):\n",
    "        for column in range(nr_cols):\n",
    "            word = x_train.iat[row, column]\n",
    "            if word in word_set:\n",
    "                doc_id = df.index[row]\n",
    "                word_id = indexed_words.get_loc(word)\n",
    "                category = labels.at[doc_id]\n",
    "\n",
    "                item = {'label': category, 'doc_id': doc_id, 'occurence': 1, 'word_id':word_id}\n",
    "                dict_list.append(item)\n",
    "    return pd.DataFrame(dict_list)\n",
    "\n",
    "\n"
   ],
   "metadata": {
    "collapsed": false
   }
  },
  {
   "cell_type": "code",
   "execution_count": 141,
   "outputs": [
    {
     "name": "stdout",
     "output_type": "stream",
     "text": [
      "CPU times: total: 2min 6s\n",
      "Wall time: 15min 6s\n"
     ]
    }
   ],
   "source": [
    "%%time\n",
    "\n",
    "sparce_train_df = make_sparce_matrix(x_train, word_index, y_train)\n"
   ],
   "metadata": {
    "collapsed": false
   }
  },
  {
   "cell_type": "code",
   "execution_count": 143,
   "outputs": [
    {
     "data": {
      "text/plain": "   label  doc_id  occurence  word_id\n0      0    4844          1      265\n1      0    4844          1     1243\n2      0    4844          1      502\n3      0    4844          1      308\n4      0    4844          1      254",
      "text/html": "<div>\n<style scoped>\n    .dataframe tbody tr th:only-of-type {\n        vertical-align: middle;\n    }\n\n    .dataframe tbody tr th {\n        vertical-align: top;\n    }\n\n    .dataframe thead th {\n        text-align: right;\n    }\n</style>\n<table border=\"1\" class=\"dataframe\">\n  <thead>\n    <tr style=\"text-align: right;\">\n      <th></th>\n      <th>label</th>\n      <th>doc_id</th>\n      <th>occurence</th>\n      <th>word_id</th>\n    </tr>\n  </thead>\n  <tbody>\n    <tr>\n      <th>0</th>\n      <td>0</td>\n      <td>4844</td>\n      <td>1</td>\n      <td>265</td>\n    </tr>\n    <tr>\n      <th>1</th>\n      <td>0</td>\n      <td>4844</td>\n      <td>1</td>\n      <td>1243</td>\n    </tr>\n    <tr>\n      <th>2</th>\n      <td>0</td>\n      <td>4844</td>\n      <td>1</td>\n      <td>502</td>\n    </tr>\n    <tr>\n      <th>3</th>\n      <td>0</td>\n      <td>4844</td>\n      <td>1</td>\n      <td>308</td>\n    </tr>\n    <tr>\n      <th>4</th>\n      <td>0</td>\n      <td>4844</td>\n      <td>1</td>\n      <td>254</td>\n    </tr>\n  </tbody>\n</table>\n</div>"
     },
     "execution_count": 143,
     "metadata": {},
     "output_type": "execute_result"
    }
   ],
   "source": [
    "sparce_train_df[:5]"
   ],
   "metadata": {
    "collapsed": false
   }
  },
  {
   "cell_type": "markdown",
   "source": [],
   "metadata": {
    "collapsed": false
   }
  },
  {
   "cell_type": "code",
   "execution_count": 144,
   "outputs": [
    {
     "data": {
      "text/plain": "(429241, 4)"
     },
     "execution_count": 144,
     "metadata": {},
     "output_type": "execute_result"
    }
   ],
   "source": [
    "sparce_train_df.shape"
   ],
   "metadata": {
    "collapsed": false
   }
  },
  {
   "cell_type": "markdown",
   "source": [
    "### Combine occurrances with pandas groupby() method"
   ],
   "metadata": {
    "collapsed": false
   }
  },
  {
   "cell_type": "code",
   "execution_count": 145,
   "outputs": [],
   "source": [
    "train_grouped = sparce_train_df.groupby(['doc_id', 'word_id', 'label']).sum()"
   ],
   "metadata": {
    "collapsed": false
   }
  },
  {
   "cell_type": "code",
   "execution_count": 146,
   "outputs": [
    {
     "data": {
      "text/plain": "                      occurence\ndoc_id word_id label           \n0      2       1              1\n       3       1              2\n       4       1              1\n       7       1              3\n       11      1              1\n...                         ...\n5795   2035    0              2\n       2040    0              1\n       2272    0              1\n       2342    0              1\n       2370    0              1\n\n[258360 rows x 1 columns]",
      "text/html": "<div>\n<style scoped>\n    .dataframe tbody tr th:only-of-type {\n        vertical-align: middle;\n    }\n\n    .dataframe tbody tr th {\n        vertical-align: top;\n    }\n\n    .dataframe thead th {\n        text-align: right;\n    }\n</style>\n<table border=\"1\" class=\"dataframe\">\n  <thead>\n    <tr style=\"text-align: right;\">\n      <th></th>\n      <th></th>\n      <th></th>\n      <th>occurence</th>\n    </tr>\n    <tr>\n      <th>doc_id</th>\n      <th>word_id</th>\n      <th>label</th>\n      <th></th>\n    </tr>\n  </thead>\n  <tbody>\n    <tr>\n      <th rowspan=\"5\" valign=\"top\">0</th>\n      <th>2</th>\n      <th>1</th>\n      <td>1</td>\n    </tr>\n    <tr>\n      <th>3</th>\n      <th>1</th>\n      <td>2</td>\n    </tr>\n    <tr>\n      <th>4</th>\n      <th>1</th>\n      <td>1</td>\n    </tr>\n    <tr>\n      <th>7</th>\n      <th>1</th>\n      <td>3</td>\n    </tr>\n    <tr>\n      <th>11</th>\n      <th>1</th>\n      <td>1</td>\n    </tr>\n    <tr>\n      <th>...</th>\n      <th>...</th>\n      <th>...</th>\n      <td>...</td>\n    </tr>\n    <tr>\n      <th rowspan=\"5\" valign=\"top\">5795</th>\n      <th>2035</th>\n      <th>0</th>\n      <td>2</td>\n    </tr>\n    <tr>\n      <th>2040</th>\n      <th>0</th>\n      <td>1</td>\n    </tr>\n    <tr>\n      <th>2272</th>\n      <th>0</th>\n      <td>1</td>\n    </tr>\n    <tr>\n      <th>2342</th>\n      <th>0</th>\n      <td>1</td>\n    </tr>\n    <tr>\n      <th>2370</th>\n      <th>0</th>\n      <td>1</td>\n    </tr>\n  </tbody>\n</table>\n<p>258360 rows × 1 columns</p>\n</div>"
     },
     "execution_count": 146,
     "metadata": {},
     "output_type": "execute_result"
    }
   ],
   "source": [
    "train_grouped"
   ],
   "metadata": {
    "collapsed": false
   }
  },
  {
   "cell_type": "code",
   "execution_count": 147,
   "outputs": [
    {
     "data": {
      "text/plain": "'http'"
     },
     "execution_count": 147,
     "metadata": {},
     "output_type": "execute_result"
    }
   ],
   "source": [
    "vocab.at[0, 'vocab_word']"
   ],
   "metadata": {
    "collapsed": false
   }
  },
  {
   "cell_type": "code",
   "execution_count": 149,
   "outputs": [
    {
     "data": {
      "text/plain": "   index  doc_id  word_id  label  occurence\n0      0       0        2      1          1\n1      1       0        3      1          2\n2      2       0        4      1          1\n3      3       0        7      1          3\n4      4       0       11      1          1",
      "text/html": "<div>\n<style scoped>\n    .dataframe tbody tr th:only-of-type {\n        vertical-align: middle;\n    }\n\n    .dataframe tbody tr th {\n        vertical-align: top;\n    }\n\n    .dataframe thead th {\n        text-align: right;\n    }\n</style>\n<table border=\"1\" class=\"dataframe\">\n  <thead>\n    <tr style=\"text-align: right;\">\n      <th></th>\n      <th>index</th>\n      <th>doc_id</th>\n      <th>word_id</th>\n      <th>label</th>\n      <th>occurence</th>\n    </tr>\n  </thead>\n  <tbody>\n    <tr>\n      <th>0</th>\n      <td>0</td>\n      <td>0</td>\n      <td>2</td>\n      <td>1</td>\n      <td>1</td>\n    </tr>\n    <tr>\n      <th>1</th>\n      <td>1</td>\n      <td>0</td>\n      <td>3</td>\n      <td>1</td>\n      <td>2</td>\n    </tr>\n    <tr>\n      <th>2</th>\n      <td>2</td>\n      <td>0</td>\n      <td>4</td>\n      <td>1</td>\n      <td>1</td>\n    </tr>\n    <tr>\n      <th>3</th>\n      <td>3</td>\n      <td>0</td>\n      <td>7</td>\n      <td>1</td>\n      <td>3</td>\n    </tr>\n    <tr>\n      <th>4</th>\n      <td>4</td>\n      <td>0</td>\n      <td>11</td>\n      <td>1</td>\n      <td>1</td>\n    </tr>\n  </tbody>\n</table>\n</div>"
     },
     "execution_count": 149,
     "metadata": {},
     "output_type": "execute_result"
    }
   ],
   "source": [
    "train_grouped = train_grouped.reset_index()\n",
    "train_grouped.head()"
   ],
   "metadata": {
    "collapsed": false
   }
  },
  {
   "cell_type": "code",
   "execution_count": 151,
   "outputs": [
    {
     "data": {
      "text/plain": "(258360, 5)"
     },
     "execution_count": 151,
     "metadata": {},
     "output_type": "execute_result"
    }
   ],
   "source": [
    "train_grouped.shape"
   ],
   "metadata": {
    "collapsed": false
   }
  },
  {
   "cell_type": "markdown",
   "source": [
    "### Save training data as .txt file"
   ],
   "metadata": {
    "collapsed": false
   }
  },
  {
   "cell_type": "code",
   "execution_count": 153,
   "outputs": [],
   "source": [
    "np.savetxt(training_data_file, train_grouped, fmt='%d')"
   ],
   "metadata": {
    "collapsed": false
   }
  },
  {
   "cell_type": "code",
   "execution_count": 156,
   "outputs": [],
   "source": [
    "sparce_test_df = make_sparce_matrix(x_test, word_index, y_test)"
   ],
   "metadata": {
    "collapsed": false
   }
  },
  {
   "cell_type": "code",
   "execution_count": 170,
   "outputs": [],
   "source": [
    "test_grouped = sparce_test_df.groupby(['doc_id', 'word_id', 'label']).sum()\n",
    "test_grouped = test_grouped.reset_index()"
   ],
   "metadata": {
    "collapsed": false
   }
  },
  {
   "cell_type": "code",
   "execution_count": 171,
   "outputs": [
    {
     "data": {
      "text/plain": "        doc_id  word_id  label  occurence\n0            8        0      1          1\n1            8        2      1          1\n2            8        9      1          1\n3            8       13      1          1\n4            8       15      1          1\n...        ...      ...    ...        ...\n107886    5793     1803      0          1\n107887    5793     1959      0          1\n107888    5793     2083      0          1\n107889    5793     2388      0          2\n107890    5793     2425      0          2\n\n[107891 rows x 4 columns]",
      "text/html": "<div>\n<style scoped>\n    .dataframe tbody tr th:only-of-type {\n        vertical-align: middle;\n    }\n\n    .dataframe tbody tr th {\n        vertical-align: top;\n    }\n\n    .dataframe thead th {\n        text-align: right;\n    }\n</style>\n<table border=\"1\" class=\"dataframe\">\n  <thead>\n    <tr style=\"text-align: right;\">\n      <th></th>\n      <th>doc_id</th>\n      <th>word_id</th>\n      <th>label</th>\n      <th>occurence</th>\n    </tr>\n  </thead>\n  <tbody>\n    <tr>\n      <th>0</th>\n      <td>8</td>\n      <td>0</td>\n      <td>1</td>\n      <td>1</td>\n    </tr>\n    <tr>\n      <th>1</th>\n      <td>8</td>\n      <td>2</td>\n      <td>1</td>\n      <td>1</td>\n    </tr>\n    <tr>\n      <th>2</th>\n      <td>8</td>\n      <td>9</td>\n      <td>1</td>\n      <td>1</td>\n    </tr>\n    <tr>\n      <th>3</th>\n      <td>8</td>\n      <td>13</td>\n      <td>1</td>\n      <td>1</td>\n    </tr>\n    <tr>\n      <th>4</th>\n      <td>8</td>\n      <td>15</td>\n      <td>1</td>\n      <td>1</td>\n    </tr>\n    <tr>\n      <th>...</th>\n      <td>...</td>\n      <td>...</td>\n      <td>...</td>\n      <td>...</td>\n    </tr>\n    <tr>\n      <th>107886</th>\n      <td>5793</td>\n      <td>1803</td>\n      <td>0</td>\n      <td>1</td>\n    </tr>\n    <tr>\n      <th>107887</th>\n      <td>5793</td>\n      <td>1959</td>\n      <td>0</td>\n      <td>1</td>\n    </tr>\n    <tr>\n      <th>107888</th>\n      <td>5793</td>\n      <td>2083</td>\n      <td>0</td>\n      <td>1</td>\n    </tr>\n    <tr>\n      <th>107889</th>\n      <td>5793</td>\n      <td>2388</td>\n      <td>0</td>\n      <td>2</td>\n    </tr>\n    <tr>\n      <th>107890</th>\n      <td>5793</td>\n      <td>2425</td>\n      <td>0</td>\n      <td>2</td>\n    </tr>\n  </tbody>\n</table>\n<p>107891 rows × 4 columns</p>\n</div>"
     },
     "execution_count": 171,
     "metadata": {},
     "output_type": "execute_result"
    }
   ],
   "source": [
    "test_grouped"
   ],
   "metadata": {
    "collapsed": false
   }
  },
  {
   "cell_type": "code",
   "execution_count": 168,
   "outputs": [],
   "source": [
    "np.savetxt(test_data_file, train_grouped, fmt='%d')"
   ],
   "metadata": {
    "collapsed": false
   }
  },
  {
   "cell_type": "code",
   "execution_count": 172,
   "outputs": [],
   "source": [
    "training_doc_ids = set(train_grouped.doc_id)\n",
    "testing_doc_id = set(test_grouped.doc_id)"
   ],
   "metadata": {
    "collapsed": false
   }
  },
  {
   "cell_type": "code",
   "execution_count": 173,
   "outputs": [
    {
     "data": {
      "text/plain": "{0,\n 1,\n 2,\n 3,\n 4,\n 5,\n 6,\n 7,\n 9,\n 10,\n 11,\n 13,\n 16,\n 18,\n 20,\n 21,\n 24,\n 25,\n 27,\n 28,\n 31,\n 32,\n 34,\n 35,\n 36,\n 39,\n 40,\n 41,\n 42,\n 46,\n 48,\n 49,\n 50,\n 52,\n 53,\n 54,\n 55,\n 56,\n 57,\n 58,\n 59,\n 60,\n 64,\n 66,\n 67,\n 72,\n 74,\n 76,\n 78,\n 81,\n 82,\n 83,\n 85,\n 87,\n 89,\n 92,\n 97,\n 98,\n 103,\n 104,\n 105,\n 108,\n 111,\n 112,\n 113,\n 115,\n 116,\n 117,\n 118,\n 119,\n 123,\n 125,\n 126,\n 128,\n 129,\n 130,\n 131,\n 133,\n 136,\n 137,\n 140,\n 141,\n 143,\n 145,\n 146,\n 147,\n 148,\n 152,\n 153,\n 154,\n 155,\n 158,\n 159,\n 160,\n 161,\n 162,\n 163,\n 164,\n 165,\n 166,\n 169,\n 170,\n 171,\n 172,\n 173,\n 174,\n 176,\n 178,\n 180,\n 182,\n 187,\n 188,\n 189,\n 190,\n 191,\n 194,\n 198,\n 200,\n 201,\n 202,\n 204,\n 207,\n 209,\n 211,\n 212,\n 213,\n 215,\n 216,\n 220,\n 222,\n 223,\n 224,\n 225,\n 226,\n 231,\n 232,\n 234,\n 235,\n 236,\n 237,\n 241,\n 242,\n 243,\n 244,\n 246,\n 249,\n 250,\n 253,\n 255,\n 256,\n 258,\n 260,\n 261,\n 262,\n 264,\n 265,\n 266,\n 267,\n 268,\n 269,\n 270,\n 271,\n 273,\n 275,\n 276,\n 277,\n 278,\n 280,\n 281,\n 282,\n 284,\n 285,\n 288,\n 289,\n 294,\n 299,\n 301,\n 303,\n 304,\n 305,\n 306,\n 307,\n 309,\n 310,\n 311,\n 312,\n 313,\n 314,\n 316,\n 317,\n 320,\n 321,\n 323,\n 326,\n 327,\n 329,\n 330,\n 331,\n 337,\n 340,\n 341,\n 342,\n 343,\n 344,\n 345,\n 347,\n 348,\n 349,\n 352,\n 353,\n 355,\n 356,\n 357,\n 358,\n 359,\n 361,\n 362,\n 363,\n 364,\n 365,\n 368,\n 370,\n 372,\n 374,\n 375,\n 377,\n 379,\n 382,\n 383,\n 384,\n 385,\n 386,\n 388,\n 389,\n 390,\n 391,\n 392,\n 394,\n 395,\n 396,\n 397,\n 398,\n 399,\n 400,\n 403,\n 404,\n 405,\n 406,\n 407,\n 409,\n 412,\n 413,\n 417,\n 419,\n 420,\n 421,\n 423,\n 424,\n 427,\n 430,\n 431,\n 432,\n 433,\n 434,\n 435,\n 436,\n 440,\n 441,\n 442,\n 444,\n 446,\n 448,\n 449,\n 454,\n 455,\n 456,\n 458,\n 459,\n 460,\n 461,\n 462,\n 464,\n 466,\n 467,\n 469,\n 470,\n 474,\n 475,\n 476,\n 477,\n 480,\n 481,\n 482,\n 483,\n 484,\n 487,\n 488,\n 489,\n 490,\n 492,\n 493,\n 494,\n 495,\n 496,\n 499,\n 500,\n 502,\n 503,\n 504,\n 508,\n 509,\n 510,\n 512,\n 513,\n 514,\n 515,\n 516,\n 519,\n 520,\n 521,\n 522,\n 523,\n 524,\n 525,\n 526,\n 528,\n 529,\n 531,\n 532,\n 535,\n 536,\n 537,\n 539,\n 540,\n 541,\n 542,\n 547,\n 550,\n 551,\n 552,\n 554,\n 556,\n 557,\n 558,\n 559,\n 560,\n 562,\n 563,\n 565,\n 569,\n 570,\n 571,\n 572,\n 573,\n 574,\n 575,\n 578,\n 579,\n 580,\n 581,\n 583,\n 587,\n 588,\n 590,\n 591,\n 592,\n 593,\n 595,\n 597,\n 600,\n 601,\n 603,\n 604,\n 606,\n 608,\n 609,\n 610,\n 612,\n 614,\n 615,\n 616,\n 617,\n 618,\n 619,\n 623,\n 627,\n 628,\n 629,\n 630,\n 631,\n 632,\n 634,\n 635,\n 636,\n 637,\n 638,\n 639,\n 640,\n 641,\n 643,\n 645,\n 646,\n 647,\n 648,\n 649,\n 650,\n 651,\n 656,\n 658,\n 659,\n 660,\n 661,\n 662,\n 663,\n 664,\n 665,\n 666,\n 667,\n 669,\n 671,\n 672,\n 673,\n 674,\n 675,\n 678,\n 679,\n 680,\n 682,\n 684,\n 685,\n 686,\n 687,\n 688,\n 689,\n 692,\n 694,\n 695,\n 697,\n 698,\n 699,\n 700,\n 701,\n 702,\n 703,\n 704,\n 706,\n 707,\n 708,\n 709,\n 710,\n 713,\n 714,\n 715,\n 716,\n 717,\n 719,\n 722,\n 723,\n 725,\n 726,\n 727,\n 728,\n 729,\n 732,\n 735,\n 738,\n 739,\n 740,\n 741,\n 743,\n 749,\n 750,\n 752,\n 753,\n 754,\n 758,\n 760,\n 761,\n 762,\n 767,\n 768,\n 769,\n 770,\n 771,\n 772,\n 773,\n 774,\n 775,\n 778,\n 779,\n 780,\n 781,\n 782,\n 784,\n 785,\n 786,\n 788,\n 789,\n 790,\n 791,\n 792,\n 793,\n 795,\n 796,\n 797,\n 799,\n 801,\n 804,\n 806,\n 813,\n 814,\n 815,\n 816,\n 817,\n 818,\n 819,\n 820,\n 821,\n 822,\n 823,\n 824,\n 825,\n 826,\n 827,\n 830,\n 832,\n 834,\n 835,\n 836,\n 839,\n 840,\n 843,\n 844,\n 845,\n 846,\n 847,\n 849,\n 850,\n 851,\n 852,\n 853,\n 854,\n 855,\n 858,\n 860,\n 861,\n 862,\n 863,\n 866,\n 867,\n 868,\n 869,\n 870,\n 871,\n 872,\n 873,\n 874,\n 876,\n 880,\n 882,\n 883,\n 884,\n 885,\n 886,\n 888,\n 890,\n 891,\n 892,\n 894,\n 895,\n 899,\n 900,\n 901,\n 902,\n 904,\n 905,\n 906,\n 908,\n 909,\n 910,\n 912,\n 913,\n 914,\n 916,\n 917,\n 918,\n 919,\n 920,\n 921,\n 922,\n 923,\n 928,\n 930,\n 933,\n 934,\n 935,\n 936,\n 937,\n 938,\n 941,\n 942,\n 943,\n 946,\n 947,\n 948,\n 950,\n 951,\n 953,\n 954,\n 955,\n 956,\n 958,\n 959,\n 960,\n 961,\n 962,\n 963,\n 966,\n 967,\n 968,\n 970,\n 971,\n 972,\n 973,\n 974,\n 975,\n 976,\n 979,\n 980,\n 981,\n 982,\n 984,\n 985,\n 986,\n 987,\n 989,\n 990,\n 991,\n 992,\n 993,\n 995,\n 997,\n 998,\n 1000,\n 1003,\n 1004,\n 1005,\n 1006,\n 1007,\n 1008,\n 1009,\n 1011,\n 1012,\n 1013,\n 1014,\n 1015,\n 1016,\n 1017,\n 1019,\n 1021,\n 1023,\n 1024,\n 1026,\n 1027,\n 1028,\n 1031,\n 1036,\n 1037,\n 1040,\n 1043,\n 1045,\n 1048,\n 1050,\n 1051,\n 1053,\n 1054,\n 1058,\n 1059,\n 1060,\n 1061,\n 1062,\n 1063,\n 1064,\n 1065,\n 1066,\n 1067,\n 1069,\n 1070,\n 1072,\n 1076,\n 1077,\n 1078,\n 1079,\n 1080,\n 1081,\n 1082,\n 1083,\n 1085,\n 1088,\n 1089,\n 1091,\n 1092,\n 1093,\n 1098,\n 1099,\n 1102,\n 1104,\n 1105,\n 1106,\n 1107,\n 1108,\n 1110,\n 1111,\n 1112,\n 1113,\n 1114,\n 1116,\n 1118,\n 1119,\n 1120,\n 1122,\n 1123,\n 1124,\n 1125,\n 1127,\n 1130,\n 1131,\n 1132,\n 1133,\n 1134,\n 1135,\n 1136,\n 1137,\n 1138,\n 1139,\n 1140,\n 1141,\n 1142,\n 1143,\n 1145,\n 1146,\n 1147,\n 1148,\n 1150,\n 1151,\n 1152,\n 1153,\n 1154,\n 1155,\n 1156,\n 1159,\n 1160,\n 1162,\n 1165,\n 1166,\n 1167,\n 1169,\n 1171,\n 1177,\n 1178,\n 1179,\n 1180,\n 1182,\n 1184,\n 1185,\n 1187,\n 1190,\n 1191,\n 1192,\n 1195,\n 1196,\n 1198,\n 1201,\n 1202,\n 1203,\n 1204,\n 1205,\n 1206,\n 1207,\n 1208,\n 1213,\n 1214,\n 1216,\n 1217,\n 1218,\n 1221,\n 1225,\n 1226,\n 1227,\n 1228,\n 1229,\n 1232,\n 1233,\n 1236,\n 1237,\n 1238,\n 1239,\n 1240,\n 1241,\n 1243,\n 1245,\n 1246,\n 1247,\n 1249,\n 1250,\n 1251,\n 1252,\n 1254,\n 1256,\n 1257,\n 1259,\n 1262,\n 1264,\n 1265,\n 1266,\n 1267,\n 1269,\n 1270,\n 1271,\n 1273,\n 1274,\n 1275,\n 1276,\n 1277,\n 1278,\n 1279,\n 1280,\n 1282,\n 1283,\n 1284,\n 1285,\n 1286,\n 1288,\n 1289,\n 1290,\n 1291,\n 1296,\n 1298,\n 1299,\n 1300,\n 1301,\n 1303,\n 1304,\n 1306,\n 1307,\n 1308,\n 1309,\n 1310,\n 1311,\n 1312,\n 1314,\n 1316,\n 1317,\n 1318,\n 1320,\n 1324,\n 1325,\n 1326,\n 1327,\n 1329,\n 1331,\n 1332,\n 1333,\n 1336,\n 1337,\n 1339,\n 1340,\n 1341,\n 1342,\n 1343,\n 1346,\n 1347,\n 1348,\n 1349,\n 1352,\n 1353,\n 1354,\n 1355,\n 1356,\n 1357,\n 1358,\n 1359,\n 1363,\n 1364,\n 1365,\n 1366,\n 1367,\n 1368,\n 1369,\n 1372,\n 1373,\n 1375,\n 1376,\n 1377,\n 1378,\n 1380,\n 1381,\n 1382,\n 1384,\n 1385,\n 1386,\n 1387,\n 1388,\n 1389,\n 1390,\n 1391,\n 1394,\n 1395,\n 1396,\n 1398,\n 1399,\n 1401,\n 1402,\n 1403,\n 1404,\n 1405,\n 1408,\n 1409,\n 1413,\n 1414,\n 1415,\n 1416,\n 1417,\n 1418,\n 1422,\n 1423,\n 1424,\n 1427,\n 1428,\n 1429,\n 1430,\n 1431,\n 1434,\n 1435,\n 1439,\n 1440,\n 1441,\n 1442,\n 1443,\n 1444,\n 1445,\n 1446,\n 1447,\n 1449,\n 1450,\n 1452,\n 1453,\n 1455,\n 1457,\n 1458,\n 1459,\n 1460,\n 1461,\n 1462,\n 1463,\n 1464,\n 1465,\n 1466,\n 1469,\n 1470,\n 1473,\n 1474,\n 1475,\n 1478,\n 1479,\n 1481,\n 1482,\n 1484,\n 1486,\n 1489,\n 1490,\n 1492,\n 1493,\n 1494,\n 1495,\n 1496,\n 1497,\n 1500,\n 1502,\n 1503,\n 1506,\n 1508,\n 1510,\n 1511,\n 1515,\n 1516,\n 1517,\n 1518,\n 1519,\n 1521,\n 1522,\n 1523,\n 1524,\n 1525,\n 1527,\n 1528,\n 1529,\n 1530,\n 1531,\n 1532,\n ...}"
     },
     "execution_count": 173,
     "metadata": {},
     "output_type": "execute_result"
    }
   ],
   "source": [
    "training_doc_ids"
   ],
   "metadata": {
    "collapsed": false
   }
  }
 ],
 "metadata": {
  "kernelspec": {
   "display_name": "Python 3",
   "language": "python",
   "name": "python3"
  },
  "language_info": {
   "codemirror_mode": {
    "name": "ipython",
    "version": 2
   },
   "file_extension": ".py",
   "mimetype": "text/x-python",
   "name": "python",
   "nbconvert_exporter": "python",
   "pygments_lexer": "ipython2",
   "version": "2.7.6"
  }
 },
 "nbformat": 4,
 "nbformat_minor": 0
}
